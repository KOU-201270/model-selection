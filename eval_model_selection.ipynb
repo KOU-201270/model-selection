{
 "cells": [
  {
   "cell_type": "code",
   "execution_count": 1,
   "id": "076f5c8e-8ef9-4d22-909b-99413adb8472",
   "metadata": {
    "pycharm": {
     "name": "#%%\n"
    }
   },
   "outputs": [],
   "source": [
    "import os\n",
    "import re\n",
    "import json\n",
    "import scipy\n",
    "import jsonlines\n",
    "import numpy as np\n",
    "import pandas as pd\n",
    "from scipy.stats import spearmanr, pearsonr, kendalltau, weightedtau\n",
    "from collections import defaultdict\n",
    "from matplotlib import pyplot as plt"
   ]
  },
  {
   "cell_type": "code",
   "execution_count": 2,
   "id": "fd9e2b95-01a9-48cd-9a12-b8b5117bdef9",
   "metadata": {
    "pycharm": {
     "name": "#%%\n"
    }
   },
   "outputs": [],
   "source": [
    "PLMS = [\"bert-base-uncased\",\n",
    "        \"bert-base-cased\",\n",
    "        \"roberta-base\",\n",
    "        \"dmis-lab/biobert-base-cased-v1.1\",\n",
    "        \"google/electra-base-discriminator\",\n",
    "        \"princeton-nlp/unsup-simcse-bert-base-uncased\",\n",
    "        \"princeton-nlp/sup-simcse-bert-base-uncased\",\n",
    "        \"openai-gpt\",\n",
    "        \"facebook/bart-base\",\n",
    "        \"allenai/scibert_scivocab_cased\",\n",
    "        \"allenai/scibert_scivocab_uncased\",\n",
    "        \"distilbert-base-cased\",\n",
    "        \"distilbert-base-uncased\",\n",
    "        \"nghuyong/ernie-2.0-base-en\",\n",
    "        \"distilroberta-base\",\n",
    "        \"distilgpt2\",\n",
    "        \"distilbert-base-multilingual-cased\",\n",
    "        \"albert-base-v2\",\n",
    "        \"microsoft/BiomedNLP-PubMedBERT-base-uncased-abstract-fulltext\",\n",
    "        \"michiyasunaga/BioLinkBERT-base\"][:]"
   ]
  },
  {
   "cell_type": "code",
   "execution_count": 3,
   "id": "93ba6305-77ff-4fbd-92e7-5ea32d1dcf56",
   "metadata": {
    "pycharm": {
     "name": "#%%\n"
    }
   },
   "outputs": [],
   "source": [
    "# read all fine-tuning results\n",
    "DATASETS = [\"bioasq9b\", \"scifact\", \"mutual\"][:]\n",
    "# DATASETS = [\"bioasq9b\", \"scifact\"][:]\n",
    "tuned_results = {}\n",
    "for dataset  in DATASETS:\n",
    "    tuned_results[dataset] = {}\n",
    "    output_dir = f\"output/{dataset}/fine_tuning/\"\n",
    "    for folder in os.listdir(output_dir):\n",
    "        plm_name = folder.replace(f\"_mean\", \"\")\n",
    "        # print(plm_name)\n",
    "        tuned_results[dataset][plm_name] = {}\n",
    "        tuned_results[dataset][plm_name][\"best\"] = {\n",
    "            \"mrr\": 0,\n",
    "            \"p1\": 0,\n",
    "            \"r5\": 0,\n",
    "            \"r10\": 0\n",
    "        }\n",
    "        for file in os.listdir(output_dir+folder):\n",
    "            lr = file.split(\"_\")[-1].replace(\"lr\", \"\")\n",
    "\n",
    "            file_path = output_dir+folder+f\"/{file}/run.log\"\n",
    "            with open(file_path, \"r\", encoding=\"utf-8\") as f:\n",
    "                log = f.read()\n",
    "            epoch_scores = re.findall(\"\\[Seed: \\d+\\] - \\(Test \\).+\\n\", log)\n",
    "            # try:\n",
    "            # assert len(epoch_scores) == 50, file_path\n",
    "            # except:\n",
    "                # continue\n",
    "            max_scores = defaultdict(dict)\n",
    "            for i in range(len(epoch_scores)):\n",
    "                seed = re.search(\"\\[Seed: \\d+\\]\", epoch_scores[i]).group()\n",
    "                seed = re.search(\"\\d+\", seed).group()\n",
    "                max_scores[seed] = max_scores.get(seed, {\"mrr\":0, \"p1\":0, \"r5\":0, \"r10\":0})\n",
    "                mrr, p1, r5, r10 = re.findall(\"\\d+\\.\\d+\", epoch_scores[i])\n",
    "                mrr, p1, r5, r10 = float(mrr), float(p1), float(r5), float(r10)\n",
    "\n",
    "                for score in [\"mrr\", \"p1\", \"r5\", \"r10\"]:\n",
    "                    max_scores[seed][score] = max_scores[seed][score] if eval(score) < max_scores[seed][score] else eval(score)\n",
    "            for score in [\"mrr\", \"p1\", \"r5\", \"r10\"]:\n",
    "                max_scores[\"overall\"][score] = np.mean([max_scores[seed][score] for seed in max_scores.keys() if seed != \"overall\"])\n",
    "\n",
    "            # tuned_results[dataset][plm_name][lr] = max_scores\n",
    "            for score in [\"mrr\", \"p1\", \"r5\", \"r10\"]:\n",
    "                if max_scores[\"overall\"][score] > tuned_results[dataset][plm_name][\"best\"][score]:\n",
    "                    tuned_results[dataset][plm_name][\"best\"][score] = max_scores[\"overall\"][score]"
   ]
  },
  {
   "cell_type": "code",
   "execution_count": 4,
   "id": "3a521698-88b2-447a-b17c-4108c46fbb2c",
   "metadata": {
    "pycharm": {
     "name": "#%%\n"
    }
   },
   "outputs": [
    {
     "name": "stdout",
     "output_type": "stream",
     "text": [
      "bert-base-uncased & .693 & .589 & .784 & .618 & .515 & .799 & .427 & .262 & .743 \\\\\n",
      "bert-base-cased & .677 & .572 & .752 & .607 & .507 & .777 & .434 & .270 & .749 \\\\\n",
      "roberta-base & .625 & .509 & .735 & .578 & .477 & .758 & .443 & .277 & .765 \\\\\n",
      "biobert-base-cased-v1.1 & .739 & .633 & .834 & .672 & .565 & .873 & .399 & .244 & .692 \\\\\n",
      "electra-base-discriminator & .624 & .527 & .685 & .385 & .285 & .557 & .345 & .213 & .613 \\\\\n",
      "unsup-simcse-bert-base-uncased & .696 & .591 & .785 & .603 & .498 & .795 & .419 & .254 & .741 \\\\\n",
      "sup-simcse-bert-base-uncased & .703 & .605 & .785 & .612 & .514 & .802 & .442 & .275 & .758 \\\\\n",
      "openai-gpt & .590 & .484 & .671 & .577 & .480 & .753 & .351 & .195 & .664 \\\\\n",
      "bart-base & .672 & .563 & .778 & .621 & .523 & .797 & .461 & .285 & .801 \\\\\n",
      "scibert_scivocab_cased & .725 & .617 & .824 & .647 & .529 & .866 & .374 & .223 & .672 \\\\\n",
      "scibert_scivocab_uncased & .726 & .616 & .833 & .686 & .582 & .886 & .392 & .234 & .704 \\\\\n",
      "distilbert-base-cased & .669 & .567 & .748 & .559 & .460 & .743 & .410 & .249 & .733 \\\\\n",
      "distilbert-base-uncased & .700 & .590 & .799 & .611 & .512 & .788 & .419 & .255 & .732 \\\\\n",
      "ernie-2.0-base-en & .708 & .598 & .809 & .647 & .549 & .838 & .459 & .285 & .786 \\\\\n",
      "distilroberta-base & .638 & .519 & .750 & .552 & .450 & .736 & .433 & .269 & .745 \\\\\n",
      "distilgpt2 & .454 & .350 & .532 & .096 & .047 & .180 & .208 & .093 & .442 \\\\\n",
      "distilbert-base-multilingual-cased & .629 & .513 & .732 & .567 & .463 & .759 & .378 & .226 & .684 \\\\\n",
      "albert-base-v2 & .623 & .516 & .706 & .502 & .389 & .725 & .333 & .190 & .621 \\\\\n",
      "BiomedNLP-PubMedBERT-base-uncased-abstract-fulltext & .748 & .635 & .852 & .720 & .611 & .929 & .405 & .246 & .704 \\\\\n",
      "BioLinkBERT-base & .717 & .600 & .829 & .726 & .619 & .926 & .401 & .244 & .706 \\\\\n"
     ]
    }
   ],
   "source": [
    "for plm in PLMS:\n",
    "    plm = plm.split(\"/\")[-1]\n",
    "    line = [plm]\n",
    "    for dataset in DATASETS:\n",
    "        for metric in [\"mrr\", \"p1\", \"r10\"]:\n",
    "            line.append(\"%2.3f\" % (float(tuned_results[dataset][plm][\"best\"][metric])/100))\n",
    "    print((' & '.join(line)+ r' \\\\').replace(\"0.\",\".\"))"
   ]
  },
  {
   "cell_type": "code",
   "execution_count": 4,
   "id": "47440270-28e6-4397-a24f-3ccaf7d48774",
   "metadata": {
    "pycharm": {
     "name": "#%%\n"
    }
   },
   "outputs": [],
   "source": []
  },
  {
   "cell_type": "code",
   "execution_count": 4,
   "metadata": {
    "collapsed": false,
    "pycharm": {
     "name": "#%%\n"
    }
   },
   "outputs": [],
   "source": [
    "def get_final_score(alpha, DATASETS):\n",
    "    for dataset in DATASETS:\n",
    "        \n",
    "        for sampling in SAMPLINGS:\n",
    "\n",
    "            for method in ALL_METHODS:\n",
    "\n",
    "                original_result_file = f\"output/{dataset}/model_selection_{sampling}_aggregate/{method}.json\"\n",
    "                final_result_file = f\"output/{dataset}/model_selection_{sampling}_final/{method}.json\"\n",
    "\n",
    "                final_results = dict()\n",
    "\n",
    "                for candidate_size in CANDIDATE_SIZES:\n",
    "\n",
    "\n",
    "                    with open(original_result_file, 'r') as f:\n",
    "                        results_dict = json.load(f)\n",
    "\n",
    "\n",
    "                    for plm in PLMS:\n",
    "                        scores = results_dict[candidate_size][plm][\"all_scores\"]\n",
    "                        times = results_dict[candidate_size][plm][\"all_times\"]\n",
    "\n",
    "                        final_results[candidate_size] = final_results.get(candidate_size, dict())\n",
    "                        final_results[candidate_size][plm] = {\n",
    "                            \"all_scores\": list(),\n",
    "                            \"all_times\": list()\n",
    "                        }\n",
    "\n",
    "                        for seed_idx in range(5):\n",
    "                            semantic_score, lexical_score = scores[seed_idx]\n",
    "                            semantic_time, lexical_time = times[seed_idx]\n",
    "\n",
    "                            if isinstance(semantic_score, dict):\n",
    "                                final_score = dict()\n",
    "                                for key in semantic_score:\n",
    "                                    final_score[key] = (1.0 - alpha) * semantic_score[key] + alpha * lexical_score[key]\n",
    "                                final_results[candidate_size][plm][\"all_scores\"].append(final_score)\n",
    "                            else:\n",
    "                                final_results[candidate_size][plm][\"all_scores\"].append((1.0 - alpha) * semantic_score + alpha * lexical_score)\n",
    "                            final_results[candidate_size][plm][\"all_times\"].append(semantic_time + lexical_time)\n",
    "\n",
    "                os.makedirs(os.path.dirname(final_result_file), exist_ok=True)\n",
    "                with open(final_result_file, \"w\") as f:\n",
    "                    json.dump(final_results, f, indent=4)\n"
   ]
  },
  {
   "cell_type": "code",
   "execution_count": 5,
   "metadata": {
    "collapsed": false,
    "pycharm": {
     "name": "#%%\n"
    }
   },
   "outputs": [],
   "source": []
  },
  {
   "cell_type": "code",
   "execution_count": 5,
   "metadata": {
    "collapsed": false,
    "pycharm": {
     "name": "#%%\n"
    }
   },
   "outputs": [],
   "source": []
  },
  {
   "cell_type": "code",
   "execution_count": 5,
   "metadata": {
    "collapsed": false,
    "pycharm": {
     "name": "#%%\n"
    }
   },
   "outputs": [],
   "source": [
    "def get_rank(pred_list, gt_list):\n",
    "    pred_rank = np.argsort(-np.array(pred_list))\n",
    "    rank = np.where(pred_rank==np.argmax(gt_list))[0].item() + 1\n",
    "    return rank\n",
    "\n",
    "def avg_time(time_list, unit):\n",
    "    sum_time = 0.\n",
    "    for t in time_list:\n",
    "        if t == '-':\n",
    "            return t\n",
    "        sum_time += float(t)\n",
    "    try:\n",
    "        return f\"%.1f%s\"% (sum_time / len(time_list), unit)\n",
    "    except:\n",
    "        return \"-\"\n",
    "\n",
    "def summarize_results(CANDIDATE_SIZES, tuned_results, tuned_setting, predict_metric, aggregate):\n",
    "\n",
    "    all_results = {}\n",
    "    main_results = {}\n",
    "    for dataset in DATASETS:\n",
    "        all_results[dataset] = {}\n",
    "        main_results[dataset] = {}\n",
    "        \n",
    "        for sampling in SAMPLINGS:\n",
    "            all_results[dataset][sampling] = defaultdict(dict)\n",
    "            main_results[dataset][sampling] = defaultdict(dict)\n",
    "\n",
    "            for candidate_size in CANDIDATE_SIZES:\n",
    "                all_results[dataset][sampling][candidate_size] = defaultdict(dict)\n",
    "                \n",
    "                for metric in MAIN_METRICS:\n",
    "                    all_results[dataset][sampling][candidate_size][metric] = defaultdict(dict)\n",
    "                    \n",
    "                    for method in ALL_METHODS:\n",
    "                        all_results[dataset][sampling][candidate_size][metric][method] = defaultdict(dict)\n",
    "\n",
    "                        if aggregate:\n",
    "                            method_result_file = f\"output/{dataset}/model_selection_{sampling}_final/{method}.json\"\n",
    "                        else:\n",
    "                            method_result_file = f\"output/{dataset}/model_selection_{sampling}/{method}.json\"\n",
    "\n",
    "                        with open(method_result_file, 'r') as f:\n",
    "                            results_dict = json.load(f)\n",
    "                            \n",
    "                        rank_list = []\n",
    "                        spr_list = []\n",
    "                        pear_list = []\n",
    "                        wtau_list = []\n",
    "                        scoring_time_list = []\n",
    "                        for seed_idx in range(5):\n",
    "                            model_result_list = []\n",
    "                            model_time_list = []\n",
    "                            for plm in PLMS:\n",
    "                                if method in RANKING_METHODS:\n",
    "                                    model_result_list.append(results_dict[candidate_size][plm][\"all_scores\"][seed_idx][predict_metric])\n",
    "                                else:\n",
    "                                    model_result_list.append(results_dict[candidate_size][plm][\"all_scores\"][seed_idx])\n",
    "                                model_time_list.append(results_dict[candidate_size][plm][\"all_times\"][seed_idx])\n",
    "\n",
    "                            dataset_tuned_results = [tuned_results[dataset][plm.split(\"/\")[-1]][tuned_setting][metric] for plm in PLMS]\n",
    "                            rank_list += [get_rank(model_result_list, dataset_tuned_results)]\n",
    "                            spr_list += [spearmanr(model_result_list, dataset_tuned_results).statistic]\n",
    "                            pear_list += [pearsonr(model_result_list, dataset_tuned_results).statistic]\n",
    "                            wtau_list += [kendalltau(model_result_list, dataset_tuned_results).statistic]\n",
    "                            scoring_time_list += [np.sum(model_time_list)]\n",
    "\n",
    "                        rank = np.mean(rank_list)\n",
    "                        spr = np.mean(spr_list)\n",
    "                        pear = np.mean(pear_list)\n",
    "                        wtau = np.mean(wtau_list)\n",
    "                        scoring_time = np.mean(scoring_time_list)\n",
    "\n",
    "                        all_results[dataset][sampling][candidate_size][metric][method]['mrr'] = {\"mean\": np.mean(rank_list),\n",
    "                                                                                    \"std\": np.std(rank_list)}\n",
    "                        all_results[dataset][sampling][candidate_size][metric][method]['spr'] = {\"mean\": np.mean(spr_list),\n",
    "                                                                                    \"std\": np.std(spr_list)}\n",
    "                        all_results[dataset][sampling][candidate_size][metric][method]['pear'] = {\"mean\": np.mean(pear_list),\n",
    "                                                                                    \"std\": np.std(pear_list)}\n",
    "                        all_results[dataset][sampling][candidate_size][metric][method]['wtau'] = {\"mean\": np.mean(wtau_list),\n",
    "                                                                                    \"std\": np.std(wtau_list)}\n",
    "                        all_results[dataset][sampling][candidate_size][metric][method]['scoring_time'] = {\"mean\": np.mean(scoring_time_list),\n",
    "                                                                                                \"std\": np.std(scoring_time_list)}\n",
    "\n",
    "                def avg_score(x, metric):\n",
    "                    return '%.4f'%np.mean(all_results[candidate_size][x][metric])\n",
    "\n",
    "                main_results[dataset][sampling][candidate_size] = defaultdict(dict)\n",
    "\n",
    "                for metric in MAIN_METRICS:\n",
    "                    main_results[dataset][sampling][candidate_size][metric][\"mean\"] = pd.DataFrame({\n",
    "                        \"Methods\": ALL_METHODS,\n",
    "                        \"MRR\": [all_results[dataset][sampling][candidate_size][metric][m]['mrr'][\"mean\"] for m in ALL_METHODS],\n",
    "                        \"Pearson\": [all_results[dataset][sampling][candidate_size][metric][m]['pear'][\"mean\"] for m in ALL_METHODS],\n",
    "                        \"Sprearman\": [all_results[dataset][sampling][candidate_size][metric][m]['spr'][\"mean\"] for m in ALL_METHODS],\n",
    "                        \"Kendall\": [all_results[dataset][sampling][candidate_size][metric][m]['wtau'][\"mean\"] for m in ALL_METHODS],\n",
    "                        \"Scoring Time\": [all_results[dataset][sampling][candidate_size][metric][m]['scoring_time'][\"mean\"] for m in ALL_METHODS],\n",
    "                    })\n",
    "                    \n",
    "                    main_results[dataset][sampling][candidate_size][metric][\"std\"] = pd.DataFrame({\n",
    "                        \"Methods\": ALL_METHODS,\n",
    "                        \"MRR\": [all_results[dataset][sampling][candidate_size][metric][m]['mrr'][\"std\"] for m in ALL_METHODS],\n",
    "                        \"Pearson\": [all_results[dataset][sampling][candidate_size][metric][m]['pear'][\"std\"] for m in ALL_METHODS],\n",
    "                        \"Sprearman\": [all_results[dataset][sampling][candidate_size][metric][m]['spr'][\"std\"] for m in ALL_METHODS],\n",
    "                        \"Kendall\": [all_results[dataset][sampling][candidate_size][metric][m]['wtau'][\"std\"] for m in ALL_METHODS],\n",
    "                        \"Scoring Time\": [all_results[dataset][sampling][candidate_size][metric][m]['scoring_time'][\"std\"] for m in ALL_METHODS],\n",
    "                    })\n",
    "                \n",
    "    return all_results, main_results"
   ]
  },
  {
   "cell_type": "code",
   "execution_count": 6,
   "metadata": {
    "collapsed": false,
    "pycharm": {
     "name": "#%%\n"
    }
   },
   "outputs": [],
   "source": [
    "# find the best scores\n",
    "def extract_best_results(main_results, DATASETS):\n",
    "    \n",
    "    best_results = dict()\n",
    "    for dataset in DATASETS:\n",
    "        best_results[dataset] = dict()\n",
    "\n",
    "        for sampling in SAMPLINGS:\n",
    "            best_results[dataset][sampling] = dict()\n",
    "            for metric in MAIN_METRICS:\n",
    "                best_mrrs = []\n",
    "                best_pears = []\n",
    "                best_rhos = []\n",
    "                best_taus = []\n",
    "                # best_stimes = []\n",
    "                best_rho_css = []\n",
    "                best_tau_css = []\n",
    "                for m in ALL_METHODS:\n",
    "                    mrr = 0\n",
    "                    pear = -1\n",
    "                    rho = -1\n",
    "                    tau = -1\n",
    "                    best_rho_cs = 2\n",
    "                    best_tau_cs = 2\n",
    "                    \n",
    "                    for cs in CANDIDATE_SIZES:\n",
    "                        if pear < float(main_results[dataset][sampling][cs][metric][\"mean\"].query(f'Methods==\"{m}\"')['Pearson'].item()):\n",
    "                            pear = float(main_results[dataset][sampling][cs][metric][\"mean\"].query(f'Methods==\"{m}\"')['Pearson'].item())\n",
    "                            \n",
    "                        if rho < float(main_results[dataset][sampling][cs][metric][\"mean\"].query(f'Methods==\"{m}\"')['Sprearman'].item()):\n",
    "                            # mrr = float(main_results[dataset][cs][metric].query(f'Methods==\"{m}\"')['MRR'].item())\n",
    "                            rho = float(main_results[dataset][sampling][cs][metric][\"mean\"].query(f'Methods==\"{m}\"')['Sprearman'].item())\n",
    "                            # stime = main_results[dataset][cs][metric].query(f'Methods==\"{m}\"')['Scoring Time'].item()\n",
    "                            best_rho_cs = cs\n",
    "                        if tau < float(main_results[dataset][sampling][cs][metric][\"mean\"].query(f'Methods==\"{m}\"')['Kendall'].item()):\n",
    "                            # mrr = float(main_results[dataset][cs][metric].query(f'Methods==\"{m}\"')['MRR'].item())\n",
    "                            tau = float(main_results[dataset][sampling][cs][metric][\"mean\"].query(f'Methods==\"{m}\"')['Kendall'].item())\n",
    "                            # stime = main_results[dataset][cs][metric].query(f'Methods==\"{m}\"')['Scoring Time'].item()\n",
    "                            best_tau_cs = cs\n",
    "                    # best_mrrs += [\"%.4f\"%mrr]\n",
    "                    best_pears += [\"%.4f\"%pear]\n",
    "                    best_rhos += [\"%.4f\"%rho]\n",
    "                    best_taus += [\"%.4f\"%tau]\n",
    "                    # best_stimes += [stime]\n",
    "                    best_rho_css += [str(best_rho_cs)]\n",
    "                    best_tau_css += [str(best_tau_cs)]\n",
    "                \n",
    "                best_results[dataset][sampling][metric] = pd.DataFrame({\n",
    "                    \"Methods\": ALL_METHODS,\n",
    "                    # \"MRR\": best_mrrs,\n",
    "                    # \"Pearson\": best_pears,\n",
    "                    \"Sprearman\": best_rhos,\n",
    "                    \"Kendall\": best_taus,\n",
    "                    # \"Scoring Time\": best_stimes,\n",
    "                    \"Best Rho Candidate Size\": best_rho_css,\n",
    "                    \"Best Tau Candidate Size\": best_tau_css\n",
    "                })\n",
    "    \n",
    "    return best_results"
   ]
  },
  {
   "cell_type": "code",
   "execution_count": 56,
   "metadata": {
    "collapsed": false,
    "pycharm": {
     "name": "#%%\n"
    }
   },
   "outputs": [],
   "source": [
    "# DATASETS = [\"bioasq9b\", \"scifact\", \"mutual\"][:]\n",
    "DATASETS = [\"bioasq9b\", \"scifact\"][:]\n",
    "CANDIDATE_SIZES = [\"2\", \"3\", \"4\", \"5\", \"6\", \"7\", \"8\", \"9\", \"10\"][:]\n",
    "SAMPLINGS = [\"random\", \"BM25\"]\n",
    "ALL_METHODS = [\n",
    "    \"HScore\",\n",
    "    \"LogME\",\n",
    "    \"Logistic\",\n",
    "    # \"ZeroShotProxy\",\n",
    "    \"GBC\",\n",
    "    \"TransRate\",\n",
    "    # \"HScoreR\",\n",
    "    \"PACTran-0.1-10\",\n",
    "    \"SFDA\", \n",
    "    # \"PACTran-0.1-1\", \n",
    "    # \"PACTran-1-100\", \n",
    "    # \"PACTran-1-10\", \n",
    "    # \"PACTran-10-1000\", \n",
    "    # \"PACTran-10-100\",\n",
    "    # \"ZeroShotProxy-whitening\",\n",
    "    # \"RLogME\",\n",
    "    # \"RLogME-whitening\",\n",
    "    # \"Rreg-lir\",\n",
    "    # \"Rreg-lir-whitening\",\n",
    "    # \"Rreg-lor\",\n",
    "    # \"Rreg-lor-whitening\",\n",
    "    # \"Rreg\",\n",
    "]\n",
    "RANKING_METHODS = [\"ZeroShotProxy\", \"ZeroShotProxy-whitening\", \"RLogME\", \"RLogME-whitening\", \\\n",
    "                   # \"Rreg-lir\",\"Rreg-lir-whitening\",\"Rreg-lor\",\"Rreg-lor-whitening\",\n",
    "                   # \"Rreg\",\n",
    "                  ]\n",
    "\n",
    "# ALL_METHODS += RANKING_METHODS\n",
    "\n",
    "\n",
    "MAIN_METRICS = [\"mrr\", \"p1\", \"r5\", \"r10\"]\n",
    "tuned_setting = \"best\""
   ]
  },
  {
   "cell_type": "code",
   "execution_count": 58,
   "metadata": {
    "collapsed": false,
    "pycharm": {
     "name": "#%%\n"
    }
   },
   "outputs": [],
   "source": [
    "all_results, main_results = summarize_results(CANDIDATE_SIZES, tuned_results, tuned_setting, \"mrr\", False)\n",
    "get_final_score(0.5, [\"bioasq9b\", \"scifact\"])\n",
    "all_results_aggregate, main_results_aggregate = summarize_results(CANDIDATE_SIZES, tuned_results, tuned_setting, \"mrr\", True)"
   ]
  },
  {
   "cell_type": "code",
   "execution_count": 59,
   "metadata": {
    "collapsed": false,
    "pycharm": {
     "name": "#%%\n"
    }
   },
   "outputs": [
    {
     "data": {
      "text/html": [
       "<div>\n",
       "<style scoped>\n",
       "    .dataframe tbody tr th:only-of-type {\n",
       "        vertical-align: middle;\n",
       "    }\n",
       "\n",
       "    .dataframe tbody tr th {\n",
       "        vertical-align: top;\n",
       "    }\n",
       "\n",
       "    .dataframe thead th {\n",
       "        text-align: right;\n",
       "    }\n",
       "</style>\n",
       "<table border=\"1\" class=\"dataframe\">\n",
       "  <thead>\n",
       "    <tr style=\"text-align: right;\">\n",
       "      <th></th>\n",
       "      <th>Methods</th>\n",
       "      <th>MRR</th>\n",
       "      <th>Pearson</th>\n",
       "      <th>Sprearman</th>\n",
       "      <th>Kendall</th>\n",
       "      <th>Scoring Time</th>\n",
       "    </tr>\n",
       "  </thead>\n",
       "  <tbody>\n",
       "    <tr>\n",
       "      <th>0</th>\n",
       "      <td>HScore</td>\n",
       "      <td>1.0</td>\n",
       "      <td>0.469415</td>\n",
       "      <td>0.659850</td>\n",
       "      <td>0.532632</td>\n",
       "      <td>83.643602</td>\n",
       "    </tr>\n",
       "    <tr>\n",
       "      <th>1</th>\n",
       "      <td>LogME</td>\n",
       "      <td>1.0</td>\n",
       "      <td>0.501210</td>\n",
       "      <td>0.667068</td>\n",
       "      <td>0.534737</td>\n",
       "      <td>31.457084</td>\n",
       "    </tr>\n",
       "    <tr>\n",
       "      <th>2</th>\n",
       "      <td>Logistic</td>\n",
       "      <td>1.0</td>\n",
       "      <td>0.468079</td>\n",
       "      <td>0.628808</td>\n",
       "      <td>0.480480</td>\n",
       "      <td>147.267162</td>\n",
       "    </tr>\n",
       "    <tr>\n",
       "      <th>3</th>\n",
       "      <td>GBC</td>\n",
       "      <td>3.0</td>\n",
       "      <td>0.240937</td>\n",
       "      <td>0.335940</td>\n",
       "      <td>0.240000</td>\n",
       "      <td>44.087983</td>\n",
       "    </tr>\n",
       "    <tr>\n",
       "      <th>4</th>\n",
       "      <td>TransRate</td>\n",
       "      <td>13.6</td>\n",
       "      <td>0.111912</td>\n",
       "      <td>0.103459</td>\n",
       "      <td>0.067368</td>\n",
       "      <td>74.196202</td>\n",
       "    </tr>\n",
       "    <tr>\n",
       "      <th>5</th>\n",
       "      <td>PACTran-0.1-10</td>\n",
       "      <td>1.0</td>\n",
       "      <td>0.466976</td>\n",
       "      <td>0.723308</td>\n",
       "      <td>0.562105</td>\n",
       "      <td>1572.342061</td>\n",
       "    </tr>\n",
       "    <tr>\n",
       "      <th>6</th>\n",
       "      <td>SFDA</td>\n",
       "      <td>1.0</td>\n",
       "      <td>0.470347</td>\n",
       "      <td>0.630075</td>\n",
       "      <td>0.494737</td>\n",
       "      <td>668.003047</td>\n",
       "    </tr>\n",
       "  </tbody>\n",
       "</table>\n",
       "</div>"
      ],
      "text/plain": [
       "          Methods   MRR   Pearson  Sprearman   Kendall  Scoring Time\n",
       "0          HScore   1.0  0.469415   0.659850  0.532632     83.643602\n",
       "1           LogME   1.0  0.501210   0.667068  0.534737     31.457084\n",
       "2        Logistic   1.0  0.468079   0.628808  0.480480    147.267162\n",
       "3             GBC   3.0  0.240937   0.335940  0.240000     44.087983\n",
       "4       TransRate  13.6  0.111912   0.103459  0.067368     74.196202\n",
       "5  PACTran-0.1-10   1.0  0.466976   0.723308  0.562105   1572.342061\n",
       "6            SFDA   1.0  0.470347   0.630075  0.494737    668.003047"
      ]
     },
     "execution_count": 59,
     "metadata": {},
     "output_type": "execute_result"
    }
   ],
   "source": [
    "main_results['bioasq9b'][\"random\"][\"10\"][\"r5\"][\"mean\"]"
   ]
  },
  {
   "cell_type": "code",
   "execution_count": 60,
   "metadata": {
    "collapsed": false,
    "pycharm": {
     "name": "#%%\n"
    }
   },
   "outputs": [
    {
     "data": {
      "text/html": [
       "<div>\n",
       "<style scoped>\n",
       "    .dataframe tbody tr th:only-of-type {\n",
       "        vertical-align: middle;\n",
       "    }\n",
       "\n",
       "    .dataframe tbody tr th {\n",
       "        vertical-align: top;\n",
       "    }\n",
       "\n",
       "    .dataframe thead th {\n",
       "        text-align: right;\n",
       "    }\n",
       "</style>\n",
       "<table border=\"1\" class=\"dataframe\">\n",
       "  <thead>\n",
       "    <tr style=\"text-align: right;\">\n",
       "      <th></th>\n",
       "      <th>Methods</th>\n",
       "      <th>MRR</th>\n",
       "      <th>Pearson</th>\n",
       "      <th>Sprearman</th>\n",
       "      <th>Kendall</th>\n",
       "      <th>Scoring Time</th>\n",
       "    </tr>\n",
       "  </thead>\n",
       "  <tbody>\n",
       "    <tr>\n",
       "      <th>0</th>\n",
       "      <td>HScore</td>\n",
       "      <td>1.0</td>\n",
       "      <td>0.532831</td>\n",
       "      <td>0.756391</td>\n",
       "      <td>0.642105</td>\n",
       "      <td>42.239313</td>\n",
       "    </tr>\n",
       "    <tr>\n",
       "      <th>1</th>\n",
       "      <td>LogME</td>\n",
       "      <td>1.0</td>\n",
       "      <td>0.614278</td>\n",
       "      <td>0.834586</td>\n",
       "      <td>0.694737</td>\n",
       "      <td>15.190210</td>\n",
       "    </tr>\n",
       "    <tr>\n",
       "      <th>2</th>\n",
       "      <td>Logistic</td>\n",
       "      <td>16.4</td>\n",
       "      <td>-0.116237</td>\n",
       "      <td>-0.196303</td>\n",
       "      <td>-0.136094</td>\n",
       "      <td>109.357874</td>\n",
       "    </tr>\n",
       "    <tr>\n",
       "      <th>3</th>\n",
       "      <td>GBC</td>\n",
       "      <td>1.0</td>\n",
       "      <td>0.514907</td>\n",
       "      <td>0.691729</td>\n",
       "      <td>0.526316</td>\n",
       "      <td>29.407568</td>\n",
       "    </tr>\n",
       "    <tr>\n",
       "      <th>4</th>\n",
       "      <td>TransRate</td>\n",
       "      <td>18.0</td>\n",
       "      <td>-0.425827</td>\n",
       "      <td>-0.311278</td>\n",
       "      <td>-0.210526</td>\n",
       "      <td>50.396709</td>\n",
       "    </tr>\n",
       "    <tr>\n",
       "      <th>5</th>\n",
       "      <td>PACTran-0.1-10</td>\n",
       "      <td>1.0</td>\n",
       "      <td>0.559822</td>\n",
       "      <td>0.793985</td>\n",
       "      <td>0.663158</td>\n",
       "      <td>1382.550733</td>\n",
       "    </tr>\n",
       "    <tr>\n",
       "      <th>6</th>\n",
       "      <td>SFDA</td>\n",
       "      <td>3.0</td>\n",
       "      <td>0.188487</td>\n",
       "      <td>0.437594</td>\n",
       "      <td>0.273684</td>\n",
       "      <td>505.038081</td>\n",
       "    </tr>\n",
       "  </tbody>\n",
       "</table>\n",
       "</div>"
      ],
      "text/plain": [
       "          Methods   MRR   Pearson  Sprearman   Kendall  Scoring Time\n",
       "0          HScore   1.0  0.532831   0.756391  0.642105     42.239313\n",
       "1           LogME   1.0  0.614278   0.834586  0.694737     15.190210\n",
       "2        Logistic  16.4 -0.116237  -0.196303 -0.136094    109.357874\n",
       "3             GBC   1.0  0.514907   0.691729  0.526316     29.407568\n",
       "4       TransRate  18.0 -0.425827  -0.311278 -0.210526     50.396709\n",
       "5  PACTran-0.1-10   1.0  0.559822   0.793985  0.663158   1382.550733\n",
       "6            SFDA   3.0  0.188487   0.437594  0.273684    505.038081"
      ]
     },
     "execution_count": 60,
     "metadata": {},
     "output_type": "execute_result"
    }
   ],
   "source": [
    "main_results['bioasq9b'][\"BM25\"][\"10\"][\"r5\"][\"mean\"]"
   ]
  },
  {
   "cell_type": "code",
   "execution_count": 59,
   "metadata": {
    "collapsed": false,
    "pycharm": {
     "name": "#%%\n"
    }
   },
   "outputs": [
    {
     "data": {
      "text/html": [
       "<div>\n",
       "<style scoped>\n",
       "    .dataframe tbody tr th:only-of-type {\n",
       "        vertical-align: middle;\n",
       "    }\n",
       "\n",
       "    .dataframe tbody tr th {\n",
       "        vertical-align: top;\n",
       "    }\n",
       "\n",
       "    .dataframe thead th {\n",
       "        text-align: right;\n",
       "    }\n",
       "</style>\n",
       "<table border=\"1\" class=\"dataframe\">\n",
       "  <thead>\n",
       "    <tr style=\"text-align: right;\">\n",
       "      <th></th>\n",
       "      <th>Methods</th>\n",
       "      <th>MRR</th>\n",
       "      <th>Pearson</th>\n",
       "      <th>Sprearman</th>\n",
       "      <th>Kendall</th>\n",
       "      <th>Scoring Time</th>\n",
       "    </tr>\n",
       "  </thead>\n",
       "  <tbody>\n",
       "    <tr>\n",
       "      <th>0</th>\n",
       "      <td>HScore</td>\n",
       "      <td>2.2</td>\n",
       "      <td>0.358845</td>\n",
       "      <td>0.713684</td>\n",
       "      <td>0.526316</td>\n",
       "      <td>190.044316</td>\n",
       "    </tr>\n",
       "    <tr>\n",
       "      <th>1</th>\n",
       "      <td>LogME</td>\n",
       "      <td>2.0</td>\n",
       "      <td>0.401761</td>\n",
       "      <td>0.675188</td>\n",
       "      <td>0.498947</td>\n",
       "      <td>83.048689</td>\n",
       "    </tr>\n",
       "    <tr>\n",
       "      <th>2</th>\n",
       "      <td>Logistic</td>\n",
       "      <td>1.0</td>\n",
       "      <td>0.346045</td>\n",
       "      <td>0.584553</td>\n",
       "      <td>0.430746</td>\n",
       "      <td>276.638723</td>\n",
       "    </tr>\n",
       "    <tr>\n",
       "      <th>3</th>\n",
       "      <td>GBC</td>\n",
       "      <td>12.0</td>\n",
       "      <td>0.306820</td>\n",
       "      <td>0.339549</td>\n",
       "      <td>0.235789</td>\n",
       "      <td>107.454258</td>\n",
       "    </tr>\n",
       "    <tr>\n",
       "      <th>4</th>\n",
       "      <td>TransRate</td>\n",
       "      <td>5.2</td>\n",
       "      <td>-0.190339</td>\n",
       "      <td>0.057744</td>\n",
       "      <td>0.018947</td>\n",
       "      <td>184.176137</td>\n",
       "    </tr>\n",
       "    <tr>\n",
       "      <th>5</th>\n",
       "      <td>PACTran-0.1-10</td>\n",
       "      <td>2.0</td>\n",
       "      <td>0.327292</td>\n",
       "      <td>0.736241</td>\n",
       "      <td>0.536842</td>\n",
       "      <td>4469.101166</td>\n",
       "    </tr>\n",
       "    <tr>\n",
       "      <th>6</th>\n",
       "      <td>SFDA</td>\n",
       "      <td>1.0</td>\n",
       "      <td>0.376836</td>\n",
       "      <td>0.581955</td>\n",
       "      <td>0.442105</td>\n",
       "      <td>1514.758982</td>\n",
       "    </tr>\n",
       "  </tbody>\n",
       "</table>\n",
       "</div>"
      ],
      "text/plain": [
       "          Methods   MRR   Pearson  Sprearman   Kendall  Scoring Time\n",
       "0          HScore   2.2  0.358845   0.713684  0.526316    190.044316\n",
       "1           LogME   2.0  0.401761   0.675188  0.498947     83.048689\n",
       "2        Logistic   1.0  0.346045   0.584553  0.430746    276.638723\n",
       "3             GBC  12.0  0.306820   0.339549  0.235789    107.454258\n",
       "4       TransRate   5.2 -0.190339   0.057744  0.018947    184.176137\n",
       "5  PACTran-0.1-10   2.0  0.327292   0.736241  0.536842   4469.101166\n",
       "6            SFDA   1.0  0.376836   0.581955  0.442105   1514.758982"
      ]
     },
     "execution_count": 59,
     "metadata": {},
     "output_type": "execute_result"
    }
   ],
   "source": [
    "main_results_aggregate['bioasq9b'][\"random\"][\"10\"][\"r5\"][\"mean\"]"
   ]
  },
  {
   "cell_type": "code",
   "execution_count": null,
   "metadata": {
    "collapsed": false,
    "pycharm": {
     "name": "#%%\n"
    }
   },
   "outputs": [],
   "source": [
    "main_results_aggregate['bioasq9b'][\"BM25\"][\"10\"][\"r5\"][\"mean\"]"
   ]
  },
  {
   "cell_type": "code",
   "execution_count": null,
   "metadata": {
    "collapsed": false,
    "pycharm": {
     "name": "#%%\n"
    }
   },
   "outputs": [],
   "source": []
  },
  {
   "cell_type": "code",
   "execution_count": null,
   "metadata": {
    "collapsed": false,
    "pycharm": {
     "name": "#%%\n"
    }
   },
   "outputs": [],
   "source": [
    "main_results['bioasq9b'][\"7\"][\"mrr\"][\"mean\"]"
   ]
  },
  {
   "cell_type": "code",
   "execution_count": null,
   "metadata": {
    "collapsed": false,
    "pycharm": {
     "name": "#%%\n"
    }
   },
   "outputs": [],
   "source": [
    "main_results_aggregate['bioasq9b'][\"7\"][\"mrr\"][\"mean\"]"
   ]
  },
  {
   "cell_type": "code",
   "execution_count": null,
   "metadata": {
    "collapsed": false,
    "pycharm": {
     "name": "#%%\n"
    }
   },
   "outputs": [],
   "source": []
  },
  {
   "cell_type": "code",
   "execution_count": null,
   "metadata": {
    "collapsed": false,
    "pycharm": {
     "name": "#%%\n"
    }
   },
   "outputs": [],
   "source": [
    "main_results['bioasq9b'][\"10\"][\"r5\"][\"mean\"]"
   ]
  },
  {
   "cell_type": "code",
   "execution_count": null,
   "metadata": {
    "collapsed": false,
    "pycharm": {
     "name": "#%%\n"
    }
   },
   "outputs": [],
   "source": [
    "main_results_aggregate['bioasq9b'][\"10\"][\"r5\"][\"mean\"]"
   ]
  },
  {
   "cell_type": "code",
   "execution_count": null,
   "metadata": {
    "collapsed": false,
    "pycharm": {
     "name": "#%%\n"
    }
   },
   "outputs": [],
   "source": []
  },
  {
   "cell_type": "code",
   "execution_count": 61,
   "metadata": {
    "collapsed": false,
    "pycharm": {
     "name": "#%%\n"
    }
   },
   "outputs": [],
   "source": [
    "best_results = extract_best_results(main_results, [\"bioasq9b\"])"
   ]
  },
  {
   "cell_type": "code",
   "execution_count": 62,
   "metadata": {
    "collapsed": false,
    "pycharm": {
     "name": "#%%\n"
    }
   },
   "outputs": [
    {
     "data": {
      "text/html": [
       "<div>\n",
       "<style scoped>\n",
       "    .dataframe tbody tr th:only-of-type {\n",
       "        vertical-align: middle;\n",
       "    }\n",
       "\n",
       "    .dataframe tbody tr th {\n",
       "        vertical-align: top;\n",
       "    }\n",
       "\n",
       "    .dataframe thead th {\n",
       "        text-align: right;\n",
       "    }\n",
       "</style>\n",
       "<table border=\"1\" class=\"dataframe\">\n",
       "  <thead>\n",
       "    <tr style=\"text-align: right;\">\n",
       "      <th></th>\n",
       "      <th>Methods</th>\n",
       "      <th>Sprearman</th>\n",
       "      <th>Kendall</th>\n",
       "      <th>Best Rho Candidate Size</th>\n",
       "      <th>Best Tau Candidate Size</th>\n",
       "    </tr>\n",
       "  </thead>\n",
       "  <tbody>\n",
       "    <tr>\n",
       "      <th>0</th>\n",
       "      <td>HScore</td>\n",
       "      <td>0.8268</td>\n",
       "      <td>0.6547</td>\n",
       "      <td>2</td>\n",
       "      <td>2</td>\n",
       "    </tr>\n",
       "    <tr>\n",
       "      <th>1</th>\n",
       "      <td>LogME</td>\n",
       "      <td>0.8310</td>\n",
       "      <td>0.6653</td>\n",
       "      <td>2</td>\n",
       "      <td>2</td>\n",
       "    </tr>\n",
       "    <tr>\n",
       "      <th>2</th>\n",
       "      <td>Logistic</td>\n",
       "      <td>0.7834</td>\n",
       "      <td>0.6098</td>\n",
       "      <td>3</td>\n",
       "      <td>3</td>\n",
       "    </tr>\n",
       "    <tr>\n",
       "      <th>3</th>\n",
       "      <td>GBC</td>\n",
       "      <td>0.3386</td>\n",
       "      <td>0.2274</td>\n",
       "      <td>4</td>\n",
       "      <td>4</td>\n",
       "    </tr>\n",
       "    <tr>\n",
       "      <th>4</th>\n",
       "      <td>TransRate</td>\n",
       "      <td>0.5203</td>\n",
       "      <td>0.3874</td>\n",
       "      <td>2</td>\n",
       "      <td>2</td>\n",
       "    </tr>\n",
       "    <tr>\n",
       "      <th>5</th>\n",
       "      <td>PACTran-0.1-10</td>\n",
       "      <td>0.7931</td>\n",
       "      <td>0.6232</td>\n",
       "      <td>3</td>\n",
       "      <td>3</td>\n",
       "    </tr>\n",
       "    <tr>\n",
       "      <th>6</th>\n",
       "      <td>SFDA</td>\n",
       "      <td>0.8331</td>\n",
       "      <td>0.6611</td>\n",
       "      <td>2</td>\n",
       "      <td>2</td>\n",
       "    </tr>\n",
       "  </tbody>\n",
       "</table>\n",
       "</div>"
      ],
      "text/plain": [
       "          Methods Sprearman Kendall Best Rho Candidate Size  \\\n",
       "0          HScore    0.8268  0.6547                       2   \n",
       "1           LogME    0.8310  0.6653                       2   \n",
       "2        Logistic    0.7834  0.6098                       3   \n",
       "3             GBC    0.3386  0.2274                       4   \n",
       "4       TransRate    0.5203  0.3874                       2   \n",
       "5  PACTran-0.1-10    0.7931  0.6232                       3   \n",
       "6            SFDA    0.8331  0.6611                       2   \n",
       "\n",
       "  Best Tau Candidate Size  \n",
       "0                       2  \n",
       "1                       2  \n",
       "2                       3  \n",
       "3                       4  \n",
       "4                       2  \n",
       "5                       3  \n",
       "6                       2  "
      ]
     },
     "execution_count": 62,
     "metadata": {},
     "output_type": "execute_result"
    }
   ],
   "source": [
    "pd.DataFrame(best_results['bioasq9b'][\"random\"]['mrr'])"
   ]
  },
  {
   "cell_type": "code",
   "execution_count": 63,
   "metadata": {
    "collapsed": false,
    "pycharm": {
     "name": "#%%\n"
    }
   },
   "outputs": [
    {
     "data": {
      "text/html": [
       "<div>\n",
       "<style scoped>\n",
       "    .dataframe tbody tr th:only-of-type {\n",
       "        vertical-align: middle;\n",
       "    }\n",
       "\n",
       "    .dataframe tbody tr th {\n",
       "        vertical-align: top;\n",
       "    }\n",
       "\n",
       "    .dataframe thead th {\n",
       "        text-align: right;\n",
       "    }\n",
       "</style>\n",
       "<table border=\"1\" class=\"dataframe\">\n",
       "  <thead>\n",
       "    <tr style=\"text-align: right;\">\n",
       "      <th></th>\n",
       "      <th>Methods</th>\n",
       "      <th>Sprearman</th>\n",
       "      <th>Kendall</th>\n",
       "      <th>Best Rho Candidate Size</th>\n",
       "      <th>Best Tau Candidate Size</th>\n",
       "    </tr>\n",
       "  </thead>\n",
       "  <tbody>\n",
       "    <tr>\n",
       "      <th>0</th>\n",
       "      <td>HScore</td>\n",
       "      <td>0.8256</td>\n",
       "      <td>0.6737</td>\n",
       "      <td>7</td>\n",
       "      <td>7</td>\n",
       "    </tr>\n",
       "    <tr>\n",
       "      <th>1</th>\n",
       "      <td>LogME</td>\n",
       "      <td>0.9323</td>\n",
       "      <td>0.8000</td>\n",
       "      <td>6</td>\n",
       "      <td>6</td>\n",
       "    </tr>\n",
       "    <tr>\n",
       "      <th>2</th>\n",
       "      <td>Logistic</td>\n",
       "      <td>-0.0930</td>\n",
       "      <td>-0.0614</td>\n",
       "      <td>9</td>\n",
       "      <td>9</td>\n",
       "    </tr>\n",
       "    <tr>\n",
       "      <th>3</th>\n",
       "      <td>GBC</td>\n",
       "      <td>0.7549</td>\n",
       "      <td>0.5789</td>\n",
       "      <td>7</td>\n",
       "      <td>7</td>\n",
       "    </tr>\n",
       "    <tr>\n",
       "      <th>4</th>\n",
       "      <td>TransRate</td>\n",
       "      <td>0.0707</td>\n",
       "      <td>0.0316</td>\n",
       "      <td>2</td>\n",
       "      <td>2</td>\n",
       "    </tr>\n",
       "    <tr>\n",
       "      <th>5</th>\n",
       "      <td>PACTran-0.1-10</td>\n",
       "      <td>0.8226</td>\n",
       "      <td>0.6611</td>\n",
       "      <td>7</td>\n",
       "      <td>8</td>\n",
       "    </tr>\n",
       "    <tr>\n",
       "      <th>6</th>\n",
       "      <td>SFDA</td>\n",
       "      <td>0.5068</td>\n",
       "      <td>0.4000</td>\n",
       "      <td>5</td>\n",
       "      <td>5</td>\n",
       "    </tr>\n",
       "  </tbody>\n",
       "</table>\n",
       "</div>"
      ],
      "text/plain": [
       "          Methods Sprearman  Kendall Best Rho Candidate Size  \\\n",
       "0          HScore    0.8256   0.6737                       7   \n",
       "1           LogME    0.9323   0.8000                       6   \n",
       "2        Logistic   -0.0930  -0.0614                       9   \n",
       "3             GBC    0.7549   0.5789                       7   \n",
       "4       TransRate    0.0707   0.0316                       2   \n",
       "5  PACTran-0.1-10    0.8226   0.6611                       7   \n",
       "6            SFDA    0.5068   0.4000                       5   \n",
       "\n",
       "  Best Tau Candidate Size  \n",
       "0                       7  \n",
       "1                       6  \n",
       "2                       9  \n",
       "3                       7  \n",
       "4                       2  \n",
       "5                       8  \n",
       "6                       5  "
      ]
     },
     "execution_count": 63,
     "metadata": {},
     "output_type": "execute_result"
    }
   ],
   "source": [
    "pd.DataFrame(best_results['bioasq9b'][\"BM25\"]['mrr'])"
   ]
  },
  {
   "cell_type": "code",
   "execution_count": 64,
   "metadata": {
    "collapsed": false,
    "pycharm": {
     "name": "#%%\n"
    }
   },
   "outputs": [],
   "source": [
    "best_results_aggregate = extract_best_results(main_results_aggregate, [\"bioasq9b\"])"
   ]
  },
  {
   "cell_type": "code",
   "execution_count": 65,
   "metadata": {
    "collapsed": false,
    "pycharm": {
     "name": "#%%\n"
    }
   },
   "outputs": [
    {
     "data": {
      "text/html": [
       "<div>\n",
       "<style scoped>\n",
       "    .dataframe tbody tr th:only-of-type {\n",
       "        vertical-align: middle;\n",
       "    }\n",
       "\n",
       "    .dataframe tbody tr th {\n",
       "        vertical-align: top;\n",
       "    }\n",
       "\n",
       "    .dataframe thead th {\n",
       "        text-align: right;\n",
       "    }\n",
       "</style>\n",
       "<table border=\"1\" class=\"dataframe\">\n",
       "  <thead>\n",
       "    <tr style=\"text-align: right;\">\n",
       "      <th></th>\n",
       "      <th>Methods</th>\n",
       "      <th>Sprearman</th>\n",
       "      <th>Kendall</th>\n",
       "      <th>Best Rho Candidate Size</th>\n",
       "      <th>Best Tau Candidate Size</th>\n",
       "    </tr>\n",
       "  </thead>\n",
       "  <tbody>\n",
       "    <tr>\n",
       "      <th>0</th>\n",
       "      <td>HScore</td>\n",
       "      <td>0.7756</td>\n",
       "      <td>0.5726</td>\n",
       "      <td>5</td>\n",
       "      <td>5</td>\n",
       "    </tr>\n",
       "    <tr>\n",
       "      <th>1</th>\n",
       "      <td>LogME</td>\n",
       "      <td>0.7910</td>\n",
       "      <td>0.6063</td>\n",
       "      <td>5</td>\n",
       "      <td>5</td>\n",
       "    </tr>\n",
       "    <tr>\n",
       "      <th>2</th>\n",
       "      <td>Logistic</td>\n",
       "      <td>0.7388</td>\n",
       "      <td>0.5290</td>\n",
       "      <td>4</td>\n",
       "      <td>4</td>\n",
       "    </tr>\n",
       "    <tr>\n",
       "      <th>3</th>\n",
       "      <td>GBC</td>\n",
       "      <td>0.3768</td>\n",
       "      <td>0.2547</td>\n",
       "      <td>7</td>\n",
       "      <td>7</td>\n",
       "    </tr>\n",
       "    <tr>\n",
       "      <th>4</th>\n",
       "      <td>TransRate</td>\n",
       "      <td>0.0998</td>\n",
       "      <td>0.1347</td>\n",
       "      <td>3</td>\n",
       "      <td>3</td>\n",
       "    </tr>\n",
       "    <tr>\n",
       "      <th>5</th>\n",
       "      <td>PACTran-0.1-10</td>\n",
       "      <td>0.7720</td>\n",
       "      <td>0.5705</td>\n",
       "      <td>3</td>\n",
       "      <td>3</td>\n",
       "    </tr>\n",
       "    <tr>\n",
       "      <th>6</th>\n",
       "      <td>SFDA</td>\n",
       "      <td>0.8075</td>\n",
       "      <td>0.6147</td>\n",
       "      <td>2</td>\n",
       "      <td>2</td>\n",
       "    </tr>\n",
       "  </tbody>\n",
       "</table>\n",
       "</div>"
      ],
      "text/plain": [
       "          Methods Sprearman Kendall Best Rho Candidate Size  \\\n",
       "0          HScore    0.7756  0.5726                       5   \n",
       "1           LogME    0.7910  0.6063                       5   \n",
       "2        Logistic    0.7388  0.5290                       4   \n",
       "3             GBC    0.3768  0.2547                       7   \n",
       "4       TransRate    0.0998  0.1347                       3   \n",
       "5  PACTran-0.1-10    0.7720  0.5705                       3   \n",
       "6            SFDA    0.8075  0.6147                       2   \n",
       "\n",
       "  Best Tau Candidate Size  \n",
       "0                       5  \n",
       "1                       5  \n",
       "2                       4  \n",
       "3                       7  \n",
       "4                       3  \n",
       "5                       3  \n",
       "6                       2  "
      ]
     },
     "execution_count": 65,
     "metadata": {},
     "output_type": "execute_result"
    }
   ],
   "source": [
    "pd.DataFrame(best_results_aggregate['bioasq9b'][\"random\"]['mrr'])"
   ]
  },
  {
   "cell_type": "code",
   "execution_count": 66,
   "metadata": {
    "collapsed": false,
    "pycharm": {
     "name": "#%%\n"
    }
   },
   "outputs": [
    {
     "data": {
      "text/html": [
       "<div>\n",
       "<style scoped>\n",
       "    .dataframe tbody tr th:only-of-type {\n",
       "        vertical-align: middle;\n",
       "    }\n",
       "\n",
       "    .dataframe tbody tr th {\n",
       "        vertical-align: top;\n",
       "    }\n",
       "\n",
       "    .dataframe thead th {\n",
       "        text-align: right;\n",
       "    }\n",
       "</style>\n",
       "<table border=\"1\" class=\"dataframe\">\n",
       "  <thead>\n",
       "    <tr style=\"text-align: right;\">\n",
       "      <th></th>\n",
       "      <th>Methods</th>\n",
       "      <th>Sprearman</th>\n",
       "      <th>Kendall</th>\n",
       "      <th>Best Rho Candidate Size</th>\n",
       "      <th>Best Tau Candidate Size</th>\n",
       "    </tr>\n",
       "  </thead>\n",
       "  <tbody>\n",
       "    <tr>\n",
       "      <th>0</th>\n",
       "      <td>HScore</td>\n",
       "      <td>0.8496</td>\n",
       "      <td>0.6842</td>\n",
       "      <td>7</td>\n",
       "      <td>7</td>\n",
       "    </tr>\n",
       "    <tr>\n",
       "      <th>1</th>\n",
       "      <td>LogME</td>\n",
       "      <td>0.7820</td>\n",
       "      <td>0.5789</td>\n",
       "      <td>10</td>\n",
       "      <td>10</td>\n",
       "    </tr>\n",
       "    <tr>\n",
       "      <th>2</th>\n",
       "      <td>Logistic</td>\n",
       "      <td>0.0257</td>\n",
       "      <td>0.0230</td>\n",
       "      <td>3</td>\n",
       "      <td>3</td>\n",
       "    </tr>\n",
       "    <tr>\n",
       "      <th>3</th>\n",
       "      <td>GBC</td>\n",
       "      <td>0.7955</td>\n",
       "      <td>0.6000</td>\n",
       "      <td>9</td>\n",
       "      <td>9</td>\n",
       "    </tr>\n",
       "    <tr>\n",
       "      <th>4</th>\n",
       "      <td>TransRate</td>\n",
       "      <td>0.0075</td>\n",
       "      <td>-0.0632</td>\n",
       "      <td>2</td>\n",
       "      <td>2</td>\n",
       "    </tr>\n",
       "    <tr>\n",
       "      <th>5</th>\n",
       "      <td>PACTran-0.1-10</td>\n",
       "      <td>0.8316</td>\n",
       "      <td>0.6632</td>\n",
       "      <td>9</td>\n",
       "      <td>9</td>\n",
       "    </tr>\n",
       "    <tr>\n",
       "      <th>6</th>\n",
       "      <td>SFDA</td>\n",
       "      <td>0.4962</td>\n",
       "      <td>0.3474</td>\n",
       "      <td>7</td>\n",
       "      <td>7</td>\n",
       "    </tr>\n",
       "  </tbody>\n",
       "</table>\n",
       "</div>"
      ],
      "text/plain": [
       "          Methods Sprearman  Kendall Best Rho Candidate Size  \\\n",
       "0          HScore    0.8496   0.6842                       7   \n",
       "1           LogME    0.7820   0.5789                      10   \n",
       "2        Logistic    0.0257   0.0230                       3   \n",
       "3             GBC    0.7955   0.6000                       9   \n",
       "4       TransRate    0.0075  -0.0632                       2   \n",
       "5  PACTran-0.1-10    0.8316   0.6632                       9   \n",
       "6            SFDA    0.4962   0.3474                       7   \n",
       "\n",
       "  Best Tau Candidate Size  \n",
       "0                       7  \n",
       "1                      10  \n",
       "2                       3  \n",
       "3                       9  \n",
       "4                       2  \n",
       "5                       9  \n",
       "6                       7  "
      ]
     },
     "execution_count": 66,
     "metadata": {},
     "output_type": "execute_result"
    }
   ],
   "source": [
    "pd.DataFrame(best_results_aggregate['bioasq9b'][\"BM25\"]['mrr'])"
   ]
  },
  {
   "cell_type": "code",
   "execution_count": null,
   "metadata": {
    "collapsed": false,
    "pycharm": {
     "name": "#%%\n"
    }
   },
   "outputs": [],
   "source": []
  },
  {
   "cell_type": "code",
   "execution_count": 75,
   "metadata": {
    "collapsed": false,
    "pycharm": {
     "name": "#%%\n"
    }
   },
   "outputs": [],
   "source": [
    "all_results, main_results = summarize_results(CANDIDATE_SIZES, tuned_results, tuned_setting, \"mrr\", False)\n",
    "get_final_score(0.5, [\"scifact\"])\n",
    "all_results_aggregate, main_results_aggregate = summarize_results(CANDIDATE_SIZES, tuned_results, tuned_setting, \"mrr\", True)"
   ]
  },
  {
   "cell_type": "code",
   "execution_count": 76,
   "metadata": {
    "collapsed": false,
    "pycharm": {
     "name": "#%%\n"
    }
   },
   "outputs": [],
   "source": [
    "best_results = extract_best_results(main_results, [\"scifact\"])\n",
    "best_results_aggregate = extract_best_results(main_results_aggregate, [\"scifact\"])"
   ]
  },
  {
   "cell_type": "code",
   "execution_count": 77,
   "metadata": {
    "collapsed": false,
    "pycharm": {
     "name": "#%%\n"
    }
   },
   "outputs": [
    {
     "data": {
      "text/html": [
       "<div>\n",
       "<style scoped>\n",
       "    .dataframe tbody tr th:only-of-type {\n",
       "        vertical-align: middle;\n",
       "    }\n",
       "\n",
       "    .dataframe tbody tr th {\n",
       "        vertical-align: top;\n",
       "    }\n",
       "\n",
       "    .dataframe thead th {\n",
       "        text-align: right;\n",
       "    }\n",
       "</style>\n",
       "<table border=\"1\" class=\"dataframe\">\n",
       "  <thead>\n",
       "    <tr style=\"text-align: right;\">\n",
       "      <th></th>\n",
       "      <th>Methods</th>\n",
       "      <th>Sprearman</th>\n",
       "      <th>Kendall</th>\n",
       "      <th>Best Rho Candidate Size</th>\n",
       "      <th>Best Tau Candidate Size</th>\n",
       "    </tr>\n",
       "  </thead>\n",
       "  <tbody>\n",
       "    <tr>\n",
       "      <th>0</th>\n",
       "      <td>HScore</td>\n",
       "      <td>0.7353</td>\n",
       "      <td>0.5874</td>\n",
       "      <td>2</td>\n",
       "      <td>2</td>\n",
       "    </tr>\n",
       "    <tr>\n",
       "      <th>1</th>\n",
       "      <td>LogME</td>\n",
       "      <td>0.7672</td>\n",
       "      <td>0.6316</td>\n",
       "      <td>2</td>\n",
       "      <td>2</td>\n",
       "    </tr>\n",
       "    <tr>\n",
       "      <th>2</th>\n",
       "      <td>Logistic</td>\n",
       "      <td>0.7555</td>\n",
       "      <td>0.6041</td>\n",
       "      <td>8</td>\n",
       "      <td>8</td>\n",
       "    </tr>\n",
       "    <tr>\n",
       "      <th>3</th>\n",
       "      <td>GBC</td>\n",
       "      <td>0.3997</td>\n",
       "      <td>0.3179</td>\n",
       "      <td>2</td>\n",
       "      <td>2</td>\n",
       "    </tr>\n",
       "    <tr>\n",
       "      <th>4</th>\n",
       "      <td>TransRate</td>\n",
       "      <td>0.1212</td>\n",
       "      <td>0.1032</td>\n",
       "      <td>3</td>\n",
       "      <td>3</td>\n",
       "    </tr>\n",
       "    <tr>\n",
       "      <th>5</th>\n",
       "      <td>PACTran-0.1-10</td>\n",
       "      <td>0.7095</td>\n",
       "      <td>0.5811</td>\n",
       "      <td>4</td>\n",
       "      <td>4</td>\n",
       "    </tr>\n",
       "    <tr>\n",
       "      <th>6</th>\n",
       "      <td>SFDA</td>\n",
       "      <td>0.7411</td>\n",
       "      <td>0.5895</td>\n",
       "      <td>2</td>\n",
       "      <td>2</td>\n",
       "    </tr>\n",
       "  </tbody>\n",
       "</table>\n",
       "</div>"
      ],
      "text/plain": [
       "          Methods Sprearman Kendall Best Rho Candidate Size  \\\n",
       "0          HScore    0.7353  0.5874                       2   \n",
       "1           LogME    0.7672  0.6316                       2   \n",
       "2        Logistic    0.7555  0.6041                       8   \n",
       "3             GBC    0.3997  0.3179                       2   \n",
       "4       TransRate    0.1212  0.1032                       3   \n",
       "5  PACTran-0.1-10    0.7095  0.5811                       4   \n",
       "6            SFDA    0.7411  0.5895                       2   \n",
       "\n",
       "  Best Tau Candidate Size  \n",
       "0                       2  \n",
       "1                       2  \n",
       "2                       8  \n",
       "3                       2  \n",
       "4                       3  \n",
       "5                       4  \n",
       "6                       2  "
      ]
     },
     "execution_count": 77,
     "metadata": {},
     "output_type": "execute_result"
    }
   ],
   "source": [
    "pd.DataFrame(best_results['scifact'][\"random\"]['mrr'])"
   ]
  },
  {
   "cell_type": "code",
   "execution_count": 78,
   "metadata": {
    "collapsed": false,
    "pycharm": {
     "name": "#%%\n"
    }
   },
   "outputs": [
    {
     "data": {
      "text/html": [
       "<div>\n",
       "<style scoped>\n",
       "    .dataframe tbody tr th:only-of-type {\n",
       "        vertical-align: middle;\n",
       "    }\n",
       "\n",
       "    .dataframe tbody tr th {\n",
       "        vertical-align: top;\n",
       "    }\n",
       "\n",
       "    .dataframe thead th {\n",
       "        text-align: right;\n",
       "    }\n",
       "</style>\n",
       "<table border=\"1\" class=\"dataframe\">\n",
       "  <thead>\n",
       "    <tr style=\"text-align: right;\">\n",
       "      <th></th>\n",
       "      <th>Methods</th>\n",
       "      <th>Sprearman</th>\n",
       "      <th>Kendall</th>\n",
       "      <th>Best Rho Candidate Size</th>\n",
       "      <th>Best Tau Candidate Size</th>\n",
       "    </tr>\n",
       "  </thead>\n",
       "  <tbody>\n",
       "    <tr>\n",
       "      <th>0</th>\n",
       "      <td>HScore</td>\n",
       "      <td>0.8195</td>\n",
       "      <td>0.6526</td>\n",
       "      <td>6</td>\n",
       "      <td>6</td>\n",
       "    </tr>\n",
       "    <tr>\n",
       "      <th>1</th>\n",
       "      <td>LogME</td>\n",
       "      <td>0.8541</td>\n",
       "      <td>0.7158</td>\n",
       "      <td>9</td>\n",
       "      <td>10</td>\n",
       "    </tr>\n",
       "    <tr>\n",
       "      <th>2</th>\n",
       "      <td>Logistic</td>\n",
       "      <td>0.1107</td>\n",
       "      <td>0.0978</td>\n",
       "      <td>3</td>\n",
       "      <td>3</td>\n",
       "    </tr>\n",
       "    <tr>\n",
       "      <th>3</th>\n",
       "      <td>GBC</td>\n",
       "      <td>0.6090</td>\n",
       "      <td>0.4737</td>\n",
       "      <td>6</td>\n",
       "      <td>6</td>\n",
       "    </tr>\n",
       "    <tr>\n",
       "      <th>4</th>\n",
       "      <td>TransRate</td>\n",
       "      <td>0.0767</td>\n",
       "      <td>0.0421</td>\n",
       "      <td>6</td>\n",
       "      <td>6</td>\n",
       "    </tr>\n",
       "    <tr>\n",
       "      <th>5</th>\n",
       "      <td>PACTran-0.1-10</td>\n",
       "      <td>0.8000</td>\n",
       "      <td>0.6526</td>\n",
       "      <td>6</td>\n",
       "      <td>6</td>\n",
       "    </tr>\n",
       "    <tr>\n",
       "      <th>6</th>\n",
       "      <td>SFDA</td>\n",
       "      <td>0.7459</td>\n",
       "      <td>0.5368</td>\n",
       "      <td>9</td>\n",
       "      <td>10</td>\n",
       "    </tr>\n",
       "  </tbody>\n",
       "</table>\n",
       "</div>"
      ],
      "text/plain": [
       "          Methods Sprearman Kendall Best Rho Candidate Size  \\\n",
       "0          HScore    0.8195  0.6526                       6   \n",
       "1           LogME    0.8541  0.7158                       9   \n",
       "2        Logistic    0.1107  0.0978                       3   \n",
       "3             GBC    0.6090  0.4737                       6   \n",
       "4       TransRate    0.0767  0.0421                       6   \n",
       "5  PACTran-0.1-10    0.8000  0.6526                       6   \n",
       "6            SFDA    0.7459  0.5368                       9   \n",
       "\n",
       "  Best Tau Candidate Size  \n",
       "0                       6  \n",
       "1                      10  \n",
       "2                       3  \n",
       "3                       6  \n",
       "4                       6  \n",
       "5                       6  \n",
       "6                      10  "
      ]
     },
     "execution_count": 78,
     "metadata": {},
     "output_type": "execute_result"
    }
   ],
   "source": [
    "pd.DataFrame(best_results['scifact'][\"BM25\"]['mrr'])"
   ]
  },
  {
   "cell_type": "code",
   "execution_count": 79,
   "metadata": {
    "collapsed": false,
    "pycharm": {
     "name": "#%%\n"
    }
   },
   "outputs": [
    {
     "data": {
      "text/html": [
       "<div>\n",
       "<style scoped>\n",
       "    .dataframe tbody tr th:only-of-type {\n",
       "        vertical-align: middle;\n",
       "    }\n",
       "\n",
       "    .dataframe tbody tr th {\n",
       "        vertical-align: top;\n",
       "    }\n",
       "\n",
       "    .dataframe thead th {\n",
       "        text-align: right;\n",
       "    }\n",
       "</style>\n",
       "<table border=\"1\" class=\"dataframe\">\n",
       "  <thead>\n",
       "    <tr style=\"text-align: right;\">\n",
       "      <th></th>\n",
       "      <th>Methods</th>\n",
       "      <th>Sprearman</th>\n",
       "      <th>Kendall</th>\n",
       "      <th>Best Rho Candidate Size</th>\n",
       "      <th>Best Tau Candidate Size</th>\n",
       "    </tr>\n",
       "  </thead>\n",
       "  <tbody>\n",
       "    <tr>\n",
       "      <th>0</th>\n",
       "      <td>HScore</td>\n",
       "      <td>0.6833</td>\n",
       "      <td>0.5411</td>\n",
       "      <td>6</td>\n",
       "      <td>6</td>\n",
       "    </tr>\n",
       "    <tr>\n",
       "      <th>1</th>\n",
       "      <td>LogME</td>\n",
       "      <td>0.6824</td>\n",
       "      <td>0.5389</td>\n",
       "      <td>4</td>\n",
       "      <td>4</td>\n",
       "    </tr>\n",
       "    <tr>\n",
       "      <th>2</th>\n",
       "      <td>Logistic</td>\n",
       "      <td>0.6552</td>\n",
       "      <td>0.5117</td>\n",
       "      <td>5</td>\n",
       "      <td>9</td>\n",
       "    </tr>\n",
       "    <tr>\n",
       "      <th>3</th>\n",
       "      <td>GBC</td>\n",
       "      <td>0.4598</td>\n",
       "      <td>0.3116</td>\n",
       "      <td>6</td>\n",
       "      <td>6</td>\n",
       "    </tr>\n",
       "    <tr>\n",
       "      <th>4</th>\n",
       "      <td>TransRate</td>\n",
       "      <td>-0.1465</td>\n",
       "      <td>-0.1032</td>\n",
       "      <td>8</td>\n",
       "      <td>8</td>\n",
       "    </tr>\n",
       "    <tr>\n",
       "      <th>5</th>\n",
       "      <td>PACTran-0.1-10</td>\n",
       "      <td>0.6701</td>\n",
       "      <td>0.5305</td>\n",
       "      <td>9</td>\n",
       "      <td>8</td>\n",
       "    </tr>\n",
       "    <tr>\n",
       "      <th>6</th>\n",
       "      <td>SFDA</td>\n",
       "      <td>0.5844</td>\n",
       "      <td>0.4589</td>\n",
       "      <td>2</td>\n",
       "      <td>6</td>\n",
       "    </tr>\n",
       "  </tbody>\n",
       "</table>\n",
       "</div>"
      ],
      "text/plain": [
       "          Methods Sprearman  Kendall Best Rho Candidate Size  \\\n",
       "0          HScore    0.6833   0.5411                       6   \n",
       "1           LogME    0.6824   0.5389                       4   \n",
       "2        Logistic    0.6552   0.5117                       5   \n",
       "3             GBC    0.4598   0.3116                       6   \n",
       "4       TransRate   -0.1465  -0.1032                       8   \n",
       "5  PACTran-0.1-10    0.6701   0.5305                       9   \n",
       "6            SFDA    0.5844   0.4589                       2   \n",
       "\n",
       "  Best Tau Candidate Size  \n",
       "0                       6  \n",
       "1                       4  \n",
       "2                       9  \n",
       "3                       6  \n",
       "4                       8  \n",
       "5                       8  \n",
       "6                       6  "
      ]
     },
     "execution_count": 79,
     "metadata": {},
     "output_type": "execute_result"
    }
   ],
   "source": [
    "pd.DataFrame(best_results_aggregate['scifact'][\"random\"]['mrr'])"
   ]
  },
  {
   "cell_type": "code",
   "execution_count": 80,
   "metadata": {
    "collapsed": false,
    "pycharm": {
     "name": "#%%\n"
    }
   },
   "outputs": [
    {
     "data": {
      "text/html": [
       "<div>\n",
       "<style scoped>\n",
       "    .dataframe tbody tr th:only-of-type {\n",
       "        vertical-align: middle;\n",
       "    }\n",
       "\n",
       "    .dataframe tbody tr th {\n",
       "        vertical-align: top;\n",
       "    }\n",
       "\n",
       "    .dataframe thead th {\n",
       "        text-align: right;\n",
       "    }\n",
       "</style>\n",
       "<table border=\"1\" class=\"dataframe\">\n",
       "  <thead>\n",
       "    <tr style=\"text-align: right;\">\n",
       "      <th></th>\n",
       "      <th>Methods</th>\n",
       "      <th>Sprearman</th>\n",
       "      <th>Kendall</th>\n",
       "      <th>Best Rho Candidate Size</th>\n",
       "      <th>Best Tau Candidate Size</th>\n",
       "    </tr>\n",
       "  </thead>\n",
       "  <tbody>\n",
       "    <tr>\n",
       "      <th>0</th>\n",
       "      <td>HScore</td>\n",
       "      <td>0.7038</td>\n",
       "      <td>0.5474</td>\n",
       "      <td>8</td>\n",
       "      <td>8</td>\n",
       "    </tr>\n",
       "    <tr>\n",
       "      <th>1</th>\n",
       "      <td>LogME</td>\n",
       "      <td>0.5699</td>\n",
       "      <td>0.3895</td>\n",
       "      <td>9</td>\n",
       "      <td>9</td>\n",
       "    </tr>\n",
       "    <tr>\n",
       "      <th>2</th>\n",
       "      <td>Logistic</td>\n",
       "      <td>0.1356</td>\n",
       "      <td>0.0968</td>\n",
       "      <td>3</td>\n",
       "      <td>3</td>\n",
       "    </tr>\n",
       "    <tr>\n",
       "      <th>3</th>\n",
       "      <td>GBC</td>\n",
       "      <td>0.6436</td>\n",
       "      <td>0.5053</td>\n",
       "      <td>4</td>\n",
       "      <td>7</td>\n",
       "    </tr>\n",
       "    <tr>\n",
       "      <th>4</th>\n",
       "      <td>TransRate</td>\n",
       "      <td>-0.1323</td>\n",
       "      <td>-0.0947</td>\n",
       "      <td>8</td>\n",
       "      <td>8</td>\n",
       "    </tr>\n",
       "    <tr>\n",
       "      <th>5</th>\n",
       "      <td>PACTran-0.1-10</td>\n",
       "      <td>0.9023</td>\n",
       "      <td>0.7579</td>\n",
       "      <td>7</td>\n",
       "      <td>7</td>\n",
       "    </tr>\n",
       "    <tr>\n",
       "      <th>6</th>\n",
       "      <td>SFDA</td>\n",
       "      <td>0.3398</td>\n",
       "      <td>0.2211</td>\n",
       "      <td>10</td>\n",
       "      <td>10</td>\n",
       "    </tr>\n",
       "  </tbody>\n",
       "</table>\n",
       "</div>"
      ],
      "text/plain": [
       "          Methods Sprearman  Kendall Best Rho Candidate Size  \\\n",
       "0          HScore    0.7038   0.5474                       8   \n",
       "1           LogME    0.5699   0.3895                       9   \n",
       "2        Logistic    0.1356   0.0968                       3   \n",
       "3             GBC    0.6436   0.5053                       4   \n",
       "4       TransRate   -0.1323  -0.0947                       8   \n",
       "5  PACTran-0.1-10    0.9023   0.7579                       7   \n",
       "6            SFDA    0.3398   0.2211                      10   \n",
       "\n",
       "  Best Tau Candidate Size  \n",
       "0                       8  \n",
       "1                       9  \n",
       "2                       3  \n",
       "3                       7  \n",
       "4                       8  \n",
       "5                       7  \n",
       "6                      10  "
      ]
     },
     "execution_count": 80,
     "metadata": {},
     "output_type": "execute_result"
    }
   ],
   "source": [
    "pd.DataFrame(best_results_aggregate['scifact'][\"BM25\"]['mrr'])"
   ]
  },
  {
   "cell_type": "code",
   "execution_count": 72,
   "id": "7f9b44a8",
   "metadata": {
    "pycharm": {
     "name": "#%%\n"
    }
   },
   "outputs": [],
   "source": []
  },
  {
   "cell_type": "code",
   "execution_count": 74,
   "id": "3b8b002f",
   "metadata": {
    "pycharm": {
     "name": "#%%\n"
    }
   },
   "outputs": [],
   "source": []
  },
  {
   "cell_type": "code",
   "execution_count": null,
   "metadata": {
    "collapsed": false,
    "pycharm": {
     "name": "#%%\n"
    }
   },
   "outputs": [],
   "source": []
  },
  {
   "cell_type": "code",
   "execution_count": null,
   "metadata": {
    "collapsed": false,
    "pycharm": {
     "name": "#%%\n"
    }
   },
   "outputs": [],
   "source": []
  },
  {
   "cell_type": "code",
   "execution_count": null,
   "metadata": {
    "collapsed": false,
    "pycharm": {
     "name": "#%%\n"
    }
   },
   "outputs": [],
   "source": [
    "pd.DataFrame(best_results['bioasq9b']['p1'])"
   ]
  },
  {
   "cell_type": "code",
   "execution_count": null,
   "metadata": {
    "collapsed": false,
    "pycharm": {
     "name": "#%%\n"
    }
   },
   "outputs": [],
   "source": [
    "pd.DataFrame(best_results_aggregate['bioasq9b']['p1'])"
   ]
  },
  {
   "cell_type": "code",
   "execution_count": null,
   "metadata": {
    "collapsed": false,
    "pycharm": {
     "name": "#%%\n"
    }
   },
   "outputs": [],
   "source": [
    "pd.DataFrame(best_results['bioasq9b']['r5'])"
   ]
  },
  {
   "cell_type": "code",
   "execution_count": null,
   "metadata": {
    "collapsed": false,
    "pycharm": {
     "name": "#%%\n"
    }
   },
   "outputs": [],
   "source": [
    "pd.DataFrame(best_results_aggregate['bioasq9b']['r5'])"
   ]
  },
  {
   "cell_type": "code",
   "execution_count": null,
   "id": "c2fd1987",
   "metadata": {
    "pycharm": {
     "name": "#%%\n"
    }
   },
   "outputs": [],
   "source": []
  },
  {
   "cell_type": "code",
   "execution_count": null,
   "id": "0350ae68",
   "metadata": {
    "pycharm": {
     "name": "#%%\n"
    }
   },
   "outputs": [],
   "source": []
  },
  {
   "cell_type": "code",
   "execution_count": 72,
   "id": "0af0ebc7",
   "metadata": {
    "pycharm": {
     "name": "#%%\n"
    }
   },
   "outputs": [
    {
     "data": {
      "text/html": [
       "<div>\n",
       "<style scoped>\n",
       "    .dataframe tbody tr th:only-of-type {\n",
       "        vertical-align: middle;\n",
       "    }\n",
       "\n",
       "    .dataframe tbody tr th {\n",
       "        vertical-align: top;\n",
       "    }\n",
       "\n",
       "    .dataframe thead th {\n",
       "        text-align: right;\n",
       "    }\n",
       "</style>\n",
       "<table border=\"1\" class=\"dataframe\">\n",
       "  <thead>\n",
       "    <tr style=\"text-align: right;\">\n",
       "      <th></th>\n",
       "      <th>Methods</th>\n",
       "      <th>Sprearman</th>\n",
       "      <th>Kendall</th>\n",
       "      <th>Best Rho Candidate Size</th>\n",
       "      <th>Best Tau Candidate Size</th>\n",
       "    </tr>\n",
       "  </thead>\n",
       "  <tbody>\n",
       "    <tr>\n",
       "      <th>0</th>\n",
       "      <td>HScore</td>\n",
       "      <td>0.7759</td>\n",
       "      <td>0.5684</td>\n",
       "      <td>7</td>\n",
       "      <td>7</td>\n",
       "    </tr>\n",
       "    <tr>\n",
       "      <th>1</th>\n",
       "      <td>LogME</td>\n",
       "      <td>0.9128</td>\n",
       "      <td>0.7368</td>\n",
       "      <td>6</td>\n",
       "      <td>6</td>\n",
       "    </tr>\n",
       "    <tr>\n",
       "      <th>2</th>\n",
       "      <td>Logistic</td>\n",
       "      <td>-0.0537</td>\n",
       "      <td>-0.0509</td>\n",
       "      <td>3</td>\n",
       "      <td>9</td>\n",
       "    </tr>\n",
       "    <tr>\n",
       "      <th>3</th>\n",
       "      <td>GBC</td>\n",
       "      <td>0.7865</td>\n",
       "      <td>0.6105</td>\n",
       "      <td>6</td>\n",
       "      <td>6</td>\n",
       "    </tr>\n",
       "    <tr>\n",
       "      <th>4</th>\n",
       "      <td>TransRate</td>\n",
       "      <td>0.1293</td>\n",
       "      <td>0.0737</td>\n",
       "      <td>2</td>\n",
       "      <td>2</td>\n",
       "    </tr>\n",
       "    <tr>\n",
       "      <th>5</th>\n",
       "      <td>PACTran-0.1-10</td>\n",
       "      <td>0.7681</td>\n",
       "      <td>0.5579</td>\n",
       "      <td>8</td>\n",
       "      <td>10</td>\n",
       "    </tr>\n",
       "    <tr>\n",
       "      <th>6</th>\n",
       "      <td>SFDA</td>\n",
       "      <td>0.4962</td>\n",
       "      <td>0.4000</td>\n",
       "      <td>5</td>\n",
       "      <td>5</td>\n",
       "    </tr>\n",
       "  </tbody>\n",
       "</table>\n",
       "</div>"
      ],
      "text/plain": [
       "          Methods Sprearman  Kendall Best Rho Candidate Size  \\\n",
       "0          HScore    0.7759   0.5684                       7   \n",
       "1           LogME    0.9128   0.7368                       6   \n",
       "2        Logistic   -0.0537  -0.0509                       3   \n",
       "3             GBC    0.7865   0.6105                       6   \n",
       "4       TransRate    0.1293   0.0737                       2   \n",
       "5  PACTran-0.1-10    0.7681   0.5579                       8   \n",
       "6            SFDA    0.4962   0.4000                       5   \n",
       "\n",
       "  Best Tau Candidate Size  \n",
       "0                       7  \n",
       "1                       6  \n",
       "2                       9  \n",
       "3                       6  \n",
       "4                       2  \n",
       "5                      10  \n",
       "6                       5  "
      ]
     },
     "execution_count": 72,
     "metadata": {},
     "output_type": "execute_result"
    }
   ],
   "source": [
    "pd.DataFrame(best_results['bioasq9b']['p1'])"
   ]
  },
  {
   "cell_type": "code",
   "execution_count": 73,
   "id": "f19d2424-98f8-4871-a19b-58cbbfc7ce30",
   "metadata": {
    "pycharm": {
     "name": "#%%\n"
    }
   },
   "outputs": [
    {
     "data": {
      "text/html": [
       "<div>\n",
       "<style scoped>\n",
       "    .dataframe tbody tr th:only-of-type {\n",
       "        vertical-align: middle;\n",
       "    }\n",
       "\n",
       "    .dataframe tbody tr th {\n",
       "        vertical-align: top;\n",
       "    }\n",
       "\n",
       "    .dataframe thead th {\n",
       "        text-align: right;\n",
       "    }\n",
       "</style>\n",
       "<table border=\"1\" class=\"dataframe\">\n",
       "  <thead>\n",
       "    <tr style=\"text-align: right;\">\n",
       "      <th></th>\n",
       "      <th>Methods</th>\n",
       "      <th>Sprearman</th>\n",
       "      <th>Kendall</th>\n",
       "      <th>Best Rho Candidate Size</th>\n",
       "      <th>Best Tau Candidate Size</th>\n",
       "    </tr>\n",
       "  </thead>\n",
       "  <tbody>\n",
       "    <tr>\n",
       "      <th>0</th>\n",
       "      <td>HScore</td>\n",
       "      <td>0.8271</td>\n",
       "      <td>0.6632</td>\n",
       "      <td>10</td>\n",
       "      <td>10</td>\n",
       "    </tr>\n",
       "    <tr>\n",
       "      <th>1</th>\n",
       "      <td>LogME</td>\n",
       "      <td>0.9128</td>\n",
       "      <td>0.7474</td>\n",
       "      <td>6</td>\n",
       "      <td>6</td>\n",
       "    </tr>\n",
       "    <tr>\n",
       "      <th>2</th>\n",
       "      <td>Logistic</td>\n",
       "      <td>-0.0812</td>\n",
       "      <td>-0.0358</td>\n",
       "      <td>3</td>\n",
       "      <td>3</td>\n",
       "    </tr>\n",
       "    <tr>\n",
       "      <th>3</th>\n",
       "      <td>GBC</td>\n",
       "      <td>0.7985</td>\n",
       "      <td>0.6211</td>\n",
       "      <td>6</td>\n",
       "      <td>6</td>\n",
       "    </tr>\n",
       "    <tr>\n",
       "      <th>4</th>\n",
       "      <td>TransRate</td>\n",
       "      <td>-0.2406</td>\n",
       "      <td>-0.1368</td>\n",
       "      <td>9</td>\n",
       "      <td>9</td>\n",
       "    </tr>\n",
       "    <tr>\n",
       "      <th>5</th>\n",
       "      <td>PACTran-0.1-10</td>\n",
       "      <td>0.7564</td>\n",
       "      <td>0.5474</td>\n",
       "      <td>9</td>\n",
       "      <td>8</td>\n",
       "    </tr>\n",
       "    <tr>\n",
       "      <th>6</th>\n",
       "      <td>SFDA</td>\n",
       "      <td>0.4977</td>\n",
       "      <td>0.3579</td>\n",
       "      <td>5</td>\n",
       "      <td>5</td>\n",
       "    </tr>\n",
       "  </tbody>\n",
       "</table>\n",
       "</div>"
      ],
      "text/plain": [
       "          Methods Sprearman  Kendall Best Rho Candidate Size  \\\n",
       "0          HScore    0.8271   0.6632                      10   \n",
       "1           LogME    0.9128   0.7474                       6   \n",
       "2        Logistic   -0.0812  -0.0358                       3   \n",
       "3             GBC    0.7985   0.6211                       6   \n",
       "4       TransRate   -0.2406  -0.1368                       9   \n",
       "5  PACTran-0.1-10    0.7564   0.5474                       9   \n",
       "6            SFDA    0.4977   0.3579                       5   \n",
       "\n",
       "  Best Tau Candidate Size  \n",
       "0                      10  \n",
       "1                       6  \n",
       "2                       3  \n",
       "3                       6  \n",
       "4                       9  \n",
       "5                       8  \n",
       "6                       5  "
      ]
     },
     "execution_count": 73,
     "metadata": {},
     "output_type": "execute_result"
    }
   ],
   "source": [
    "pd.DataFrame(best_results_aggregate['bioasq9b']['p1'])"
   ]
  },
  {
   "cell_type": "code",
   "execution_count": 74,
   "id": "a9c8a0a3-d05b-44ab-9974-970b22e2292d",
   "metadata": {
    "pycharm": {
     "name": "#%%\n"
    }
   },
   "outputs": [
    {
     "data": {
      "text/html": [
       "<div>\n",
       "<style scoped>\n",
       "    .dataframe tbody tr th:only-of-type {\n",
       "        vertical-align: middle;\n",
       "    }\n",
       "\n",
       "    .dataframe tbody tr th {\n",
       "        vertical-align: top;\n",
       "    }\n",
       "\n",
       "    .dataframe thead th {\n",
       "        text-align: right;\n",
       "    }\n",
       "</style>\n",
       "<table border=\"1\" class=\"dataframe\">\n",
       "  <thead>\n",
       "    <tr style=\"text-align: right;\">\n",
       "      <th></th>\n",
       "      <th>Methods</th>\n",
       "      <th>Sprearman</th>\n",
       "      <th>Kendall</th>\n",
       "      <th>Best Rho Candidate Size</th>\n",
       "      <th>Best Tau Candidate Size</th>\n",
       "    </tr>\n",
       "  </thead>\n",
       "  <tbody>\n",
       "    <tr>\n",
       "      <th>0</th>\n",
       "      <td>HScore</td>\n",
       "      <td>0.8211</td>\n",
       "      <td>0.6947</td>\n",
       "      <td>7</td>\n",
       "      <td>7</td>\n",
       "    </tr>\n",
       "    <tr>\n",
       "      <th>1</th>\n",
       "      <td>LogME</td>\n",
       "      <td>0.9188</td>\n",
       "      <td>0.7789</td>\n",
       "      <td>6</td>\n",
       "      <td>6</td>\n",
       "    </tr>\n",
       "    <tr>\n",
       "      <th>2</th>\n",
       "      <td>Logistic</td>\n",
       "      <td>-0.0951</td>\n",
       "      <td>-0.0655</td>\n",
       "      <td>9</td>\n",
       "      <td>9</td>\n",
       "    </tr>\n",
       "    <tr>\n",
       "      <th>3</th>\n",
       "      <td>GBC</td>\n",
       "      <td>0.7248</td>\n",
       "      <td>0.5579</td>\n",
       "      <td>8</td>\n",
       "      <td>7</td>\n",
       "    </tr>\n",
       "    <tr>\n",
       "      <th>4</th>\n",
       "      <td>TransRate</td>\n",
       "      <td>0.0466</td>\n",
       "      <td>0.0105</td>\n",
       "      <td>2</td>\n",
       "      <td>2</td>\n",
       "    </tr>\n",
       "    <tr>\n",
       "      <th>5</th>\n",
       "      <td>PACTran-0.1-10</td>\n",
       "      <td>0.8271</td>\n",
       "      <td>0.6947</td>\n",
       "      <td>7</td>\n",
       "      <td>7</td>\n",
       "    </tr>\n",
       "    <tr>\n",
       "      <th>6</th>\n",
       "      <td>SFDA</td>\n",
       "      <td>0.4827</td>\n",
       "      <td>0.3579</td>\n",
       "      <td>5</td>\n",
       "      <td>4</td>\n",
       "    </tr>\n",
       "  </tbody>\n",
       "</table>\n",
       "</div>"
      ],
      "text/plain": [
       "          Methods Sprearman  Kendall Best Rho Candidate Size  \\\n",
       "0          HScore    0.8211   0.6947                       7   \n",
       "1           LogME    0.9188   0.7789                       6   \n",
       "2        Logistic   -0.0951  -0.0655                       9   \n",
       "3             GBC    0.7248   0.5579                       8   \n",
       "4       TransRate    0.0466   0.0105                       2   \n",
       "5  PACTran-0.1-10    0.8271   0.6947                       7   \n",
       "6            SFDA    0.4827   0.3579                       5   \n",
       "\n",
       "  Best Tau Candidate Size  \n",
       "0                       7  \n",
       "1                       6  \n",
       "2                       9  \n",
       "3                       7  \n",
       "4                       2  \n",
       "5                       7  \n",
       "6                       4  "
      ]
     },
     "execution_count": 74,
     "metadata": {},
     "output_type": "execute_result"
    }
   ],
   "source": [
    "pd.DataFrame(best_results['bioasq9b']['r5'])"
   ]
  },
  {
   "cell_type": "code",
   "execution_count": 75,
   "id": "cbc3182e",
   "metadata": {
    "pycharm": {
     "name": "#%%\n"
    }
   },
   "outputs": [
    {
     "data": {
      "text/html": [
       "<div>\n",
       "<style scoped>\n",
       "    .dataframe tbody tr th:only-of-type {\n",
       "        vertical-align: middle;\n",
       "    }\n",
       "\n",
       "    .dataframe tbody tr th {\n",
       "        vertical-align: top;\n",
       "    }\n",
       "\n",
       "    .dataframe thead th {\n",
       "        text-align: right;\n",
       "    }\n",
       "</style>\n",
       "<table border=\"1\" class=\"dataframe\">\n",
       "  <thead>\n",
       "    <tr style=\"text-align: right;\">\n",
       "      <th></th>\n",
       "      <th>Methods</th>\n",
       "      <th>Sprearman</th>\n",
       "      <th>Kendall</th>\n",
       "      <th>Best Rho Candidate Size</th>\n",
       "      <th>Best Tau Candidate Size</th>\n",
       "    </tr>\n",
       "  </thead>\n",
       "  <tbody>\n",
       "    <tr>\n",
       "      <th>0</th>\n",
       "      <td>HScore</td>\n",
       "      <td>0.8180</td>\n",
       "      <td>0.6842</td>\n",
       "      <td>8</td>\n",
       "      <td>7</td>\n",
       "    </tr>\n",
       "    <tr>\n",
       "      <th>1</th>\n",
       "      <td>LogME</td>\n",
       "      <td>0.9053</td>\n",
       "      <td>0.7684</td>\n",
       "      <td>6</td>\n",
       "      <td>7</td>\n",
       "    </tr>\n",
       "    <tr>\n",
       "      <th>2</th>\n",
       "      <td>Logistic</td>\n",
       "      <td>-0.1170</td>\n",
       "      <td>-0.0737</td>\n",
       "      <td>3</td>\n",
       "      <td>3</td>\n",
       "    </tr>\n",
       "    <tr>\n",
       "      <th>3</th>\n",
       "      <td>GBC</td>\n",
       "      <td>0.7113</td>\n",
       "      <td>0.5684</td>\n",
       "      <td>6</td>\n",
       "      <td>7</td>\n",
       "    </tr>\n",
       "    <tr>\n",
       "      <th>4</th>\n",
       "      <td>TransRate</td>\n",
       "      <td>-0.2271</td>\n",
       "      <td>-0.1579</td>\n",
       "      <td>9</td>\n",
       "      <td>9</td>\n",
       "    </tr>\n",
       "    <tr>\n",
       "      <th>5</th>\n",
       "      <td>PACTran-0.1-10</td>\n",
       "      <td>0.7985</td>\n",
       "      <td>0.6526</td>\n",
       "      <td>9</td>\n",
       "      <td>8</td>\n",
       "    </tr>\n",
       "    <tr>\n",
       "      <th>6</th>\n",
       "      <td>SFDA</td>\n",
       "      <td>0.4496</td>\n",
       "      <td>0.3158</td>\n",
       "      <td>5</td>\n",
       "      <td>5</td>\n",
       "    </tr>\n",
       "  </tbody>\n",
       "</table>\n",
       "</div>"
      ],
      "text/plain": [
       "          Methods Sprearman  Kendall Best Rho Candidate Size  \\\n",
       "0          HScore    0.8180   0.6842                       8   \n",
       "1           LogME    0.9053   0.7684                       6   \n",
       "2        Logistic   -0.1170  -0.0737                       3   \n",
       "3             GBC    0.7113   0.5684                       6   \n",
       "4       TransRate   -0.2271  -0.1579                       9   \n",
       "5  PACTran-0.1-10    0.7985   0.6526                       9   \n",
       "6            SFDA    0.4496   0.3158                       5   \n",
       "\n",
       "  Best Tau Candidate Size  \n",
       "0                       7  \n",
       "1                       7  \n",
       "2                       3  \n",
       "3                       7  \n",
       "4                       9  \n",
       "5                       8  \n",
       "6                       5  "
      ]
     },
     "execution_count": 75,
     "metadata": {},
     "output_type": "execute_result"
    }
   ],
   "source": [
    "pd.DataFrame(best_results_aggregate['bioasq9b']['r5'])"
   ]
  },
  {
   "cell_type": "code",
   "execution_count": null,
   "id": "689efa24-3594-4298-80ff-072043c03329",
   "metadata": {
    "pycharm": {
     "name": "#%%\n"
    }
   },
   "outputs": [],
   "source": [
    "METHOD_SHOW_NAME = {\n",
    "   \"Logistic\": \"LinearProxy\",\n",
    "   \"GBC\": \"GBC\",\n",
    "   \"TransRate\": \"TransRate\",\n",
    "   \"HScore\": \"HScore\",\n",
    "   \"HScoreR\": \"HScoreR\",\n",
    "   \"SFDA\": \"SFDA\", \n",
    "   \"PACTran-0.1-10\": \"PACTran\",\n",
    "   \"LogME\": \"LogME\",\n",
    "    \"Rreg-whitening\": \"Rreg\",\n",
    "#    \"RLogME-whitening\": \"PRaISE\",\n",
    "#    \"RLogME\": \"\\quad \\quad w/o BP\",\n",
    "#    \"ZeroShotProxy-whitening\": \"\\quad \\quad w/o IT\",\n",
    "#    \"ZeroShotProxy\": \"ZeroShotProxy\",\n",
    "#     \"Rreg-whitening\": \"Rreg-whitening\",\n",
    "#     \"Rreg\": \"Rreg\",\n",
    "}"
   ]
  },
  {
   "cell_type": "code",
   "execution_count": null,
   "id": "b5c16024-a1f7-4ac4-859a-94823ceba518",
   "metadata": {
    "pycharm": {
     "name": "#%%\n"
    }
   },
   "outputs": [],
   "source": [
    "df = best_results\n",
    "for i in range(len(ALL_METHODS)):\n",
    "    # print(' & '.join([METHOD_SHOW_NAME[list(df.iloc[i])[0]]] +  list(df.iloc[i])[1:])+ r' \\\\')\n",
    "    # print(' & '.join([METHOD_SHOW_NAME[list(df.iloc[i])[0]]] +  [t+'s' for t in list(df.iloc[i])[1:]])+ r' \\\\')\n",
    "    \n",
    "    line = [METHOD_SHOW_NAME[list(df[DATASETS[0]][\"mrr\"].iloc[i])[0]]]\n",
    "    for dataset in DATASETS:\n",
    "        line.extend([list(df[dataset][m].iloc[i])[2] for m in [\"mrr\", \"p1\", \"r10\"]])\n",
    "    if line[0] == \"PRaISE\":\n",
    "        print(\"\\hline\")\n",
    "    print((' & '.join(line)+ r' \\\\').replace(\"0.\", \".\"))"
   ]
  },
  {
   "cell_type": "code",
   "execution_count": null,
   "id": "eae13136-feff-4357-a50e-3922d57bdf74",
   "metadata": {
    "pycharm": {
     "name": "#%%\n"
    }
   },
   "outputs": [],
   "source": [
    "df = extract_best_results(RLogME_r10_results)\n",
    "for i in range(len(ALL_METHODS)):\n",
    "    # print(' & '.join([METHOD_SHOW_NAME[list(df.iloc[i])[0]]] +  list(df.iloc[i])[1:])+ r' \\\\')\n",
    "    # print(' & '.join([METHOD_SHOW_NAME[list(df.iloc[i])[0]]] +  [t+'s' for t in list(df.iloc[i])[1:]])+ r' \\\\')\n",
    "    \n",
    "    line = [METHOD_SHOW_NAME[list(df[DATASETS[0]][\"r10\"].iloc[i])[0]]]\n",
    "    for dataset in DATASETS:\n",
    "        line.extend([list(df[dataset][m].iloc[i])[2] for m in [\"mrr\", \"p1\", \"r10\"]])\n",
    "    if line[0] == \"PRaISE\":\n",
    "        print(\"\\hline\")\n",
    "    print((' & '.join(line)+ r' \\\\').replace(\"0.\", \".\"))"
   ]
  },
  {
   "cell_type": "code",
   "execution_count": null,
   "id": "e91fa031-8d6c-4089-9444-a278f2916f2b",
   "metadata": {
    "pycharm": {
     "name": "#%%\n"
    }
   },
   "outputs": [],
   "source": [
    "RLogME_p1_results"
   ]
  },
  {
   "cell_type": "code",
   "execution_count": null,
   "id": "5196b00a-031b-46a8-b01b-328b03788c9f",
   "metadata": {
    "pycharm": {
     "name": "#%%\n"
    }
   },
   "outputs": [],
   "source": []
  },
  {
   "cell_type": "code",
   "execution_count": null,
   "id": "7a470ead-baf5-428b-8a31-3ec95004bc18",
   "metadata": {
    "pycharm": {
     "name": "#%%\n"
    }
   },
   "outputs": [],
   "source": []
  },
  {
   "cell_type": "code",
   "execution_count": null,
   "id": "93ebf241-a0dc-4851-95ac-bd1ef11b3a68",
   "metadata": {
    "pycharm": {
     "name": "#%%\n"
    }
   },
   "outputs": [],
   "source": [
    "ALL_METHODS = [\n",
    "    \"GBC\",\n",
    "    \"TransRate\",\n",
    "    \"HScore\",\n",
    "    \"HScoreR\",\n",
    "    \"SFDA\", \n",
    "    \"PACTran-0.1-10\",\n",
    "    \"Logistic\",\n",
    "    \"LogME\",\n",
    "    \"RLogME-whitening\",\n",
    "    \"RLogME\",\n",
    "    \"ZeroShotProxy-whitening\",\n",
    "    \"ZeroShotProxy\",\n",
    "    #  \"Rreg-whitening\",\n",
    "]"
   ]
  },
  {
   "cell_type": "code",
   "execution_count": null,
   "id": "08225f9e-cce6-4a54-8f26-9a5dd6115a27",
   "metadata": {
    "pycharm": {
     "name": "#%%\n"
    }
   },
   "outputs": [],
   "source": [
    "dataset = \"bioasq9b\"\n",
    "method = \"Rreg-whitening\"\n",
    "show_method = \"ARMTran\"\n",
    "css = [2, 3, 5, 7, 10, 15, 20]\n",
    "\n",
    "Y_tau = {}\n",
    "\n",
    "METRIC_SHOW_NAME = {\n",
    "    \"mrr\": \"MRR\",\n",
    "    \"p1\": \"P@1\",\n",
    "    \"r10\": \"R@10\"\n",
    "}\n",
    "metrics = [\"mrr\", \"p1\", \"r10\"]\n",
    "show_metrics = [METRIC_SHOW_NAME[m] for m in metrics]\n",
    "\n",
    "Y_tau[method] = defaultdict(dict)\n",
    "for metric in metrics:\n",
    "    Y_tau[method][metric][\"mean\"] = []\n",
    "    Y_tau[method][metric][\"std\"] = []\n",
    "    for cs in css:\n",
    "        Y_tau[method][metric][\"mean\"] += [float(main_results[dataset][str(cs)][metric][\"mean\"].query(f'Methods==\"{method}\"')[\"Kendall\"].item())]\n",
    "        Y_tau[method][metric][\"std\"] += [float(main_results[dataset][str(cs)][metric][\"std\"].query(f'Methods==\"{method}\"')[\"Kendall\"].item())]\n",
    "    Y_tau[method][metric][\"mean\"] = np.array(Y_tau[method][metric][\"mean\"])\n",
    "    Y_tau[method][metric][\"std\"] = np.array(Y_tau[method][metric][\"std\"])\n",
    "        \n",
    "line_styles = [\"-\", \"-\", \"-\"]\n",
    "colors = [\"royalblue\", \"darkorange\", \"orangered\"]\n",
    "\n",
    "fig = plt.figure(figsize = (14,10), dpi=60)\n",
    "axes = fig.subplots(nrows=1, ncols=1)\n",
    "\n",
    "plt.grid(color=\"white\")\n",
    "ax = fig.axes[0]\n",
    "ax.set_facecolor(\"lavender\")\n",
    "for j, metric in enumerate(metrics):\n",
    "    # show_method+f\" ({show_metrics[j]})\"\n",
    "    ax.plot(css, Y_tau[method][metric][\"mean\"], label=f\"τ{show_metrics[j]}\", mfc = \"white\", color=colors[j], linestyle=line_styles[j], linewidth=3)\n",
    "    ax.fill_between(css, Y_tau[method][metric][\"mean\"]-Y_tau[method][metric][\"std\"], Y_tau[method][metric][\"mean\"]+Y_tau[method][metric][\"std\"], color=colors[j], alpha=0.3)\n",
    "ax.set_xlabel('Candidate Size', size=36)\n",
    "ax.set_ylabel(\"Kendall's τ\", size=36)\n",
    "\n",
    "tick_size = 32\n",
    "\n",
    "plt.xticks(css, fontsize=tick_size)\n",
    "plt.yticks(fontsize=tick_size)\n",
    "\n",
    "\n",
    "lines, labels = fig.axes[-1].get_legend_handles_labels()\n",
    "fig.legend(lines, labels, loc = 'center', fontsize=32, ncol=1, bbox_to_anchor=(0.73, 0.73), facecolor=\"lavender\")\n",
    "plt.savefig(f'C:\\\\Users\\\\Jun Bai\\\\Desktop\\\\COLING2024\\\\figs\\\\{show_method}_{dataset}.pdf', dpi = 100, bbox_inches = 'tight')\n",
    "plt.show()"
   ]
  },
  {
   "cell_type": "code",
   "execution_count": null,
   "id": "362a1ee6-67db-40c4-84be-4fd89bf76a06",
   "metadata": {
    "pycharm": {
     "name": "#%%\n"
    }
   },
   "outputs": [],
   "source": []
  },
  {
   "cell_type": "code",
   "execution_count": null,
   "id": "e8cbbef1-3a4c-4ea7-b8e3-bae66ae31a2c",
   "metadata": {
    "pycharm": {
     "name": "#%%\n"
    }
   },
   "outputs": [],
   "source": [
    "plot_methods = [\"kNN-5-corr\", \"GBC\", \"HScore\", \"HScoreR\", \"MSC-cos\", \\\n",
    "                \"LFC-cos\", \"TransRate\", \"NLEEP\", \"PARC-corr\", \"Logistic\", \"LogME\", \"SFDA\", \"PACTran-1-10\"]\n",
    "data_ratios = [0.1, 0.25, 0.5, 0.75, 1.0]\n",
    "embedding_sizes = [16, 32, 64, 128, 256, 384, 512, 768]\n",
    "target_model_lm = \"deberta-base\"\n",
    "all_results_plot, main_results_plot = summarize_results(data_ratios, embedding_sizes, target_model_lm, plot_methods)"
   ]
  },
  {
   "cell_type": "code",
   "execution_count": null,
   "id": "ebee9500-883d-4d07-ab81-7d51c016d155",
   "metadata": {
    "pycharm": {
     "name": "#%%\n"
    }
   },
   "outputs": [],
   "source": [
    "plot_methods = [\"kNN-5-corr\", \"PARC-corr\", \"Logistic\", \"HScore\", \"HScoreR\", \"LogME\", \"SFDA\", \"PACTran-1-10\"]\n",
    "\n",
    "show_methods = [METHOD_SHOW_NAME[m] for m in plot_methods]\n",
    "data_ratios = [0.1, 0.25, 0.5, 0.75, 1.0]\n",
    "\n",
    "dims = list(main_results_plot[1].keys())\n",
    "X = list(main_results_plot.keys())\n",
    "Y_mrr = {}\n",
    "Y_scc = {}\n",
    "\n",
    "metric = 'MRR'\n",
    "for m in plot_methods:\n",
    "    Y_mrr[m] = []\n",
    "    for r in data_ratios:\n",
    "        Y_mrr[m] += [float(main_results_plot[r][int(best_dim_dict[m])]['overall'].query(f'Methods==\"{m}\"')[metric].item())]\n",
    "\n",
    "metric = 'Mean SCC'\n",
    "for m in plot_methods:\n",
    "    Y_scc[m] = []\n",
    "    for r in data_ratios:\n",
    "        Y_scc[m] += [float(main_results_plot[r][int(best_dim_dict[m])]['overall'].query(f'Methods==\"{m}\"')[metric].item())]\n",
    "\n",
    "\n",
    "line_styles = ['-.'] * 3 + ['-'] * 5\n",
    "marker_styles = ['*'] * 3 + ['>'] * 5 \n",
    "\n",
    "fig = plt.figure(figsize = (14,10), dpi=60)\n",
    "axes = fig.subplots(nrows=1, ncols=2)\n",
    "\n",
    "ax = fig.axes[0]\n",
    "ax.set_facecolor(\"aliceblue\")\n",
    "for i, m in enumerate(plot_methods):\n",
    "    ax.plot([\"%d\"%(float(x)*100)+\"%\" for x in X], Y_mrr[m], label=show_methods[i], mfc = \"white\", markeredgewidth=2, linestyle=line_styles[i], linewidth=3, marker=marker_styles[i], markersize=15)\n",
    "ax.set_xlabel('Data Percentage', size=20)\n",
    "ax.set_ylabel('MRR', size=20)\n",
    "\n",
    "tick_size = 18\n",
    "\n",
    "plt.sca(axes[0])\n",
    "plt.xticks(fontsize=tick_size)\n",
    "plt.yticks(fontsize=tick_size)\n",
    "plt.grid()\n",
    "    \n",
    "ax = fig.axes[1]\n",
    "ax.set_facecolor(\"ivory\")\n",
    "for i, m in enumerate(plot_methods):\n",
    "    ax.plot([\"%d\"%(float(x)*100)+\"%\" for x in X], Y_scc[m], label=show_methods[i], mfc = \"white\", markeredgewidth=2, linestyle=line_styles[i], linewidth=3, marker=marker_styles[i], markersize=15)\n",
    "ax.set_xlabel('Data Percentage', size=20)\n",
    "ax.set_ylabel(r'$\\mu_{\\rho}$', size=20)\n",
    "\n",
    "plt.sca(axes[1])\n",
    "plt.xticks(fontsize=tick_size)\n",
    "plt.yticks(fontsize=tick_size)\n",
    "plt.grid()\n",
    "\n",
    "lines, labels = fig.axes[-1].get_legend_handles_labels()\n",
    "fig.legend(lines, labels, loc = 'upper left', fontsize=22, ncol=4, bbox_to_anchor=(0.115, 1.01))\n",
    "plt.savefig('C:\\\\Users\\\\Jun Bai\\\\Desktop\\\\EMNLP2023\\\\data_size_variation.pdf', dpi = 100, bbox_inches = 'tight')\n",
    "plt.show()"
   ]
  },
  {
   "cell_type": "code",
   "execution_count": null,
   "id": "7a6848e9-1316-4532-b1b2-ea867c6df99c",
   "metadata": {
    "pycharm": {
     "name": "#%%\n"
    }
   },
   "outputs": [],
   "source": []
  },
  {
   "cell_type": "code",
   "execution_count": null,
   "id": "16d4a1b7-f075-42c4-b10c-693b7f573423",
   "metadata": {
    "pycharm": {
     "name": "#%%\n"
    }
   },
   "outputs": [],
   "source": []
  }
 ],
 "metadata": {
  "kernelspec": {
   "display_name": "Python 3 (ipykernel)",
   "language": "python",
   "name": "python3"
  },
  "language_info": {
   "codemirror_mode": {
    "name": "ipython",
    "version": 3
   },
   "file_extension": ".py",
   "mimetype": "text/x-python",
   "name": "python",
   "nbconvert_exporter": "python",
   "pygments_lexer": "ipython3",
   "version": "3.11.5"
  }
 },
 "nbformat": 4,
 "nbformat_minor": 5
}
